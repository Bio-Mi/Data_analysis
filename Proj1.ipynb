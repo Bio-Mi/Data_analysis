{
 "cells": [
  {
   "cell_type": "markdown",
   "metadata": {},
   "source": [
    "# The influence of population growth on the forest size and individual income between 1990 and 2015 in Brazil and China.\n",
    "\n",
    "## Table of Contents\n",
    "<ul>\n",
    "<li><a href=\"#intro\">Introduction</a></li>\n",
    "<li><a href=\"#wrangling\">Data Wrangling</a></li>\n",
    "<li><a href=\"#eda\">Exploratory Data Analysis</a></li>\n",
    "<li><a href=\"#conclusions\">Conclusions</a></li>\n",
    "</ul>"
   ]
  },
  {
   "cell_type": "markdown",
   "metadata": {},
   "source": [
    "<a id='intro'></a>\n",
    "## Introduction\n",
    "There are clues indicating to relationship between increasing population and negatively affects on income level per individual and the forest area. This data is analysied to show to what extent that this relation is ture. Selected countries, China and Brazil, have economic boom last 5 decades. The project is going to examine the population growth rate  and forest area data as well as seeking the relation between them. Also, the project examises the impact of population rate on an individaul income rate of the selected countries. "
   ]
  },
  {
   "cell_type": "markdown",
   "metadata": {},
   "source": [
    "## The aim of project is to answer that\n",
    "### 1. what is the relation between population growth rate and forest area in Brazil and China?  \n",
    "### 2. what is the relation between population growth rate and individual income in Brazil and China? "
   ]
  },
  {
   "cell_type": "markdown",
   "metadata": {},
   "source": [
    "<a id='wrangling'></a>\n",
    "## Data wrangling"
   ]
  },
  {
   "cell_type": "code",
   "execution_count": 2,
   "metadata": {
    "scrolled": false
   },
   "outputs": [],
   "source": [
    "# Use this cell to set up import statements for all of the packages that you\n",
    "#   plan to use.\n",
    "import pandas as pd\n",
    "import matplotlib\n",
    "import matplotlib.pyplot as plt\n",
    "import numpy as np\n",
    "import seaborn as sb\n",
    "%matplotlib inline"
   ]
  },
  {
   "cell_type": "code",
   "execution_count": 3,
   "metadata": {},
   "outputs": [],
   "source": [
    "#Loading the files \n",
    "pop= pd.read_csv('population_total.csv')\n",
    "i= pd.read_csv('income_per_person_gdppercapita_ppp_inflation_adjusted.csv')\n",
    "f= pd.read_csv('forest_area_sq_km.csv')"
   ]
  },
  {
   "cell_type": "code",
   "execution_count": 4,
   "metadata": {},
   "outputs": [],
   "source": [
    "# To check up data \n",
    "def discover(x):\n",
    "    print('General info :')\n",
    "    print(x.info())\n",
    "    print('How many duplications?')\n",
    "    print(x.duplicated().sum())\n",
    "    print('Any Null?')\n",
    "    print(x.isnull().sum().any())"
   ]
  },
  {
   "cell_type": "code",
   "execution_count": 5,
   "metadata": {},
   "outputs": [],
   "source": [
    "#Check the existing of data \n",
    "def index(data,c1,c2,start,end): \n",
    "    print(f'The index of '+c1+' is ')\n",
    "    print(data[data.country == c1].iloc[:, range(0).count])\n",
    "    print(f'The index of '+ c2 +' is ')\n",
    "    print(data[data.country == c2].iloc[:, range(0).count])    \n",
    "    print(f'The index of '+start +' is')\n",
    "    print(data.columns.get_loc(start))\n",
    "    print(f'The index of '+end +' is ')\n",
    "    print(data.columns.get_loc(end))"
   ]
  },
  {
   "cell_type": "markdown",
   "metadata": {},
   "source": [
    "<a id='wrangling'></a>\n",
    "## Clean  population Data "
   ]
  },
  {
   "cell_type": "code",
   "execution_count": 6,
   "metadata": {},
   "outputs": [
    {
     "name": "stdout",
     "output_type": "stream",
     "text": [
      "General info :\n",
      "<class 'pandas.core.frame.DataFrame'>\n",
      "RangeIndex: 195 entries, 0 to 194\n",
      "Columns: 302 entries, country to 2100\n",
      "dtypes: int64(301), object(1)\n",
      "memory usage: 460.2+ KB\n",
      "None\n",
      "How many duplications?\n",
      "0\n",
      "Any Null?\n",
      "False\n"
     ]
    }
   ],
   "source": [
    "discover(pop) #to get general information about population data"
   ]
  },
  {
   "cell_type": "code",
   "execution_count": 7,
   "metadata": {},
   "outputs": [
    {
     "name": "stdout",
     "output_type": "stream",
     "text": [
      "The index of Brazil is \n",
      "23    Brazil\n",
      "Name: country, dtype: object\n",
      "The index of China is \n",
      "35    China\n",
      "Name: country, dtype: object\n",
      "The index of 1990 is\n",
      "191\n",
      "The index of 2015 is \n",
      "216\n"
     ]
    }
   ],
   "source": [
    "index(pop,'Brazil','China','1990','2015') # to check existing of requirement in the data"
   ]
  },
  {
   "cell_type": "code",
   "execution_count": 8,
   "metadata": {},
   "outputs": [],
   "source": [
    "#build new data frame\n",
    "Selected= ['Brazil','China']\n",
    "df = pop[pop['country'].isin(Selected)] \n",
    "fr1= df.iloc[:, [0]] \n",
    "fr2= df.iloc[:, 191:217] \n",
    "popfr = fr1.join([fr2], how='inner', on=None)"
   ]
  },
  {
   "cell_type": "code",
   "execution_count": 9,
   "metadata": {},
   "outputs": [],
   "source": [
    "#arrangment table \n",
    "popfr1= popfr.transpose()\n",
    "popfr1.columns= ['Brazil','China']\n",
    "pop_frame= popfr1.drop(['country'])"
   ]
  },
  {
   "cell_type": "markdown",
   "metadata": {},
   "source": [
    "<a id='wrangling'></a>\n",
    "## Clean Forest Data "
   ]
  },
  {
   "cell_type": "code",
   "execution_count": 10,
   "metadata": {},
   "outputs": [
    {
     "name": "stdout",
     "output_type": "stream",
     "text": [
      "General info :\n",
      "<class 'pandas.core.frame.DataFrame'>\n",
      "RangeIndex: 193 entries, 0 to 192\n",
      "Data columns (total 28 columns):\n",
      " #   Column   Non-Null Count  Dtype  \n",
      "---  ------   --------------  -----  \n",
      " 0   country  193 non-null    object \n",
      " 1   1990     190 non-null    float64\n",
      " 2   1991     190 non-null    float64\n",
      " 3   1992     190 non-null    float64\n",
      " 4   1993     191 non-null    float64\n",
      " 5   1994     191 non-null    float64\n",
      " 6   1995     191 non-null    float64\n",
      " 7   1996     191 non-null    float64\n",
      " 8   1997     191 non-null    float64\n",
      " 9   1998     191 non-null    float64\n",
      " 10  1999     191 non-null    float64\n",
      " 11  2000     191 non-null    float64\n",
      " 12  2001     191 non-null    float64\n",
      " 13  2002     191 non-null    float64\n",
      " 14  2003     191 non-null    float64\n",
      " 15  2004     191 non-null    float64\n",
      " 16  2005     191 non-null    float64\n",
      " 17  2006     191 non-null    float64\n",
      " 18  2007     191 non-null    float64\n",
      " 19  2008     191 non-null    float64\n",
      " 20  2009     191 non-null    float64\n",
      " 21  2010     191 non-null    float64\n",
      " 22  2011     193 non-null    float64\n",
      " 23  2012     193 non-null    float64\n",
      " 24  2013     193 non-null    float64\n",
      " 25  2014     193 non-null    float64\n",
      " 26  2015     193 non-null    float64\n",
      " 27  2016     193 non-null    float64\n",
      "dtypes: float64(27), object(1)\n",
      "memory usage: 42.3+ KB\n",
      "None\n",
      "How many duplications?\n",
      "0\n",
      "Any Null?\n",
      "True\n"
     ]
    }
   ],
   "source": [
    "discover(f)#to get general information about Forest data"
   ]
  },
  {
   "cell_type": "code",
   "execution_count": 11,
   "metadata": {},
   "outputs": [
    {
     "data": {
      "text/plain": [
       "(array([ 56,  56,  56, 157, 157, 157, 157, 157, 157, 157, 157, 157, 157,\n",
       "        157, 157, 157, 157, 157, 157, 157, 157, 157, 157, 157, 163, 163,\n",
       "        163, 163, 163, 163, 163, 163, 163, 163, 163, 163, 163, 163, 163,\n",
       "        163, 163, 163, 163, 163, 163]),\n",
       " array([ 1,  2,  3,  1,  2,  3,  4,  5,  6,  7,  8,  9, 10, 11, 12, 13, 14,\n",
       "        15, 16, 17, 18, 19, 20, 21,  1,  2,  3,  4,  5,  6,  7,  8,  9, 10,\n",
       "        11, 12, 13, 14, 15, 16, 17, 18, 19, 20, 21]))"
      ]
     },
     "execution_count": 11,
     "metadata": {},
     "output_type": "execute_result"
    }
   ],
   "source": [
    "np.where(pd.isnull(f)) #where is the null"
   ]
  },
  {
   "cell_type": "code",
   "execution_count": 12,
   "metadata": {},
   "outputs": [
    {
     "data": {
      "text/html": [
       "<div>\n",
       "<style scoped>\n",
       "    .dataframe tbody tr th:only-of-type {\n",
       "        vertical-align: middle;\n",
       "    }\n",
       "\n",
       "    .dataframe tbody tr th {\n",
       "        vertical-align: top;\n",
       "    }\n",
       "\n",
       "    .dataframe thead th {\n",
       "        text-align: right;\n",
       "    }\n",
       "</style>\n",
       "<table border=\"1\" class=\"dataframe\">\n",
       "  <thead>\n",
       "    <tr style=\"text-align: right;\">\n",
       "      <th></th>\n",
       "      <th>country</th>\n",
       "      <th>1990</th>\n",
       "      <th>1991</th>\n",
       "      <th>1992</th>\n",
       "      <th>1993</th>\n",
       "      <th>1994</th>\n",
       "      <th>1995</th>\n",
       "      <th>1996</th>\n",
       "      <th>1997</th>\n",
       "      <th>1998</th>\n",
       "      <th>...</th>\n",
       "      <th>2007</th>\n",
       "      <th>2008</th>\n",
       "      <th>2009</th>\n",
       "      <th>2010</th>\n",
       "      <th>2011</th>\n",
       "      <th>2012</th>\n",
       "      <th>2013</th>\n",
       "      <th>2014</th>\n",
       "      <th>2015</th>\n",
       "      <th>2016</th>\n",
       "    </tr>\n",
       "  </thead>\n",
       "  <tbody>\n",
       "    <tr>\n",
       "      <th>0</th>\n",
       "      <td>Afghanistan</td>\n",
       "      <td>13500.0</td>\n",
       "      <td>13500.0</td>\n",
       "      <td>13500.0</td>\n",
       "      <td>13500.0</td>\n",
       "      <td>13500.0</td>\n",
       "      <td>13500.0</td>\n",
       "      <td>13500.0</td>\n",
       "      <td>13500.0</td>\n",
       "      <td>13500.0</td>\n",
       "      <td>...</td>\n",
       "      <td>13500.0</td>\n",
       "      <td>13500.0</td>\n",
       "      <td>13500.0</td>\n",
       "      <td>13500.0</td>\n",
       "      <td>13500.0</td>\n",
       "      <td>13500.0</td>\n",
       "      <td>13500.0</td>\n",
       "      <td>13500.0</td>\n",
       "      <td>13500.0</td>\n",
       "      <td>13500.0</td>\n",
       "    </tr>\n",
       "    <tr>\n",
       "      <th>1</th>\n",
       "      <td>Albania</td>\n",
       "      <td>7890.0</td>\n",
       "      <td>7870.0</td>\n",
       "      <td>7850.0</td>\n",
       "      <td>7830.0</td>\n",
       "      <td>7810.0</td>\n",
       "      <td>7790.0</td>\n",
       "      <td>7770.0</td>\n",
       "      <td>7750.0</td>\n",
       "      <td>7730.0</td>\n",
       "      <td>...</td>\n",
       "      <td>7800.0</td>\n",
       "      <td>7790.0</td>\n",
       "      <td>7780.0</td>\n",
       "      <td>7760.0</td>\n",
       "      <td>7750.0</td>\n",
       "      <td>7740.0</td>\n",
       "      <td>7730.0</td>\n",
       "      <td>7720.0</td>\n",
       "      <td>7720.0</td>\n",
       "      <td>7710.0</td>\n",
       "    </tr>\n",
       "    <tr>\n",
       "      <th>2</th>\n",
       "      <td>Algeria</td>\n",
       "      <td>16700.0</td>\n",
       "      <td>16600.0</td>\n",
       "      <td>16500.0</td>\n",
       "      <td>16400.0</td>\n",
       "      <td>16300.0</td>\n",
       "      <td>16200.0</td>\n",
       "      <td>16100.0</td>\n",
       "      <td>16100.0</td>\n",
       "      <td>16000.0</td>\n",
       "      <td>...</td>\n",
       "      <td>16900.0</td>\n",
       "      <td>17700.0</td>\n",
       "      <td>18400.0</td>\n",
       "      <td>19200.0</td>\n",
       "      <td>19300.0</td>\n",
       "      <td>19300.0</td>\n",
       "      <td>19400.0</td>\n",
       "      <td>19500.0</td>\n",
       "      <td>19600.0</td>\n",
       "      <td>19600.0</td>\n",
       "    </tr>\n",
       "    <tr>\n",
       "      <th>3</th>\n",
       "      <td>Andorra</td>\n",
       "      <td>160.0</td>\n",
       "      <td>160.0</td>\n",
       "      <td>160.0</td>\n",
       "      <td>160.0</td>\n",
       "      <td>160.0</td>\n",
       "      <td>160.0</td>\n",
       "      <td>160.0</td>\n",
       "      <td>160.0</td>\n",
       "      <td>160.0</td>\n",
       "      <td>...</td>\n",
       "      <td>160.0</td>\n",
       "      <td>160.0</td>\n",
       "      <td>160.0</td>\n",
       "      <td>160.0</td>\n",
       "      <td>160.0</td>\n",
       "      <td>160.0</td>\n",
       "      <td>160.0</td>\n",
       "      <td>160.0</td>\n",
       "      <td>160.0</td>\n",
       "      <td>160.0</td>\n",
       "    </tr>\n",
       "    <tr>\n",
       "      <th>4</th>\n",
       "      <td>Angola</td>\n",
       "      <td>610000.0</td>\n",
       "      <td>609000.0</td>\n",
       "      <td>607000.0</td>\n",
       "      <td>606000.0</td>\n",
       "      <td>605000.0</td>\n",
       "      <td>604000.0</td>\n",
       "      <td>602000.0</td>\n",
       "      <td>601000.0</td>\n",
       "      <td>600000.0</td>\n",
       "      <td>...</td>\n",
       "      <td>589000.0</td>\n",
       "      <td>587000.0</td>\n",
       "      <td>586000.0</td>\n",
       "      <td>585000.0</td>\n",
       "      <td>584000.0</td>\n",
       "      <td>582000.0</td>\n",
       "      <td>581000.0</td>\n",
       "      <td>580000.0</td>\n",
       "      <td>579000.0</td>\n",
       "      <td>577000.0</td>\n",
       "    </tr>\n",
       "    <tr>\n",
       "      <th>...</th>\n",
       "      <td>...</td>\n",
       "      <td>...</td>\n",
       "      <td>...</td>\n",
       "      <td>...</td>\n",
       "      <td>...</td>\n",
       "      <td>...</td>\n",
       "      <td>...</td>\n",
       "      <td>...</td>\n",
       "      <td>...</td>\n",
       "      <td>...</td>\n",
       "      <td>...</td>\n",
       "      <td>...</td>\n",
       "      <td>...</td>\n",
       "      <td>...</td>\n",
       "      <td>...</td>\n",
       "      <td>...</td>\n",
       "      <td>...</td>\n",
       "      <td>...</td>\n",
       "      <td>...</td>\n",
       "      <td>...</td>\n",
       "      <td>...</td>\n",
       "    </tr>\n",
       "    <tr>\n",
       "      <th>188</th>\n",
       "      <td>Venezuela</td>\n",
       "      <td>520000.0</td>\n",
       "      <td>517000.0</td>\n",
       "      <td>515000.0</td>\n",
       "      <td>512000.0</td>\n",
       "      <td>509000.0</td>\n",
       "      <td>506000.0</td>\n",
       "      <td>503000.0</td>\n",
       "      <td>500000.0</td>\n",
       "      <td>497000.0</td>\n",
       "      <td>...</td>\n",
       "      <td>476000.0</td>\n",
       "      <td>476000.0</td>\n",
       "      <td>475000.0</td>\n",
       "      <td>475000.0</td>\n",
       "      <td>473000.0</td>\n",
       "      <td>472000.0</td>\n",
       "      <td>470000.0</td>\n",
       "      <td>468000.0</td>\n",
       "      <td>467000.0</td>\n",
       "      <td>465000.0</td>\n",
       "    </tr>\n",
       "    <tr>\n",
       "      <th>189</th>\n",
       "      <td>Vietnam</td>\n",
       "      <td>93600.0</td>\n",
       "      <td>96000.0</td>\n",
       "      <td>98400.0</td>\n",
       "      <td>101000.0</td>\n",
       "      <td>103000.0</td>\n",
       "      <td>105000.0</td>\n",
       "      <td>108000.0</td>\n",
       "      <td>110000.0</td>\n",
       "      <td>113000.0</td>\n",
       "      <td>...</td>\n",
       "      <td>135000.0</td>\n",
       "      <td>137000.0</td>\n",
       "      <td>139000.0</td>\n",
       "      <td>141000.0</td>\n",
       "      <td>143000.0</td>\n",
       "      <td>144000.0</td>\n",
       "      <td>145000.0</td>\n",
       "      <td>146000.0</td>\n",
       "      <td>148000.0</td>\n",
       "      <td>149000.0</td>\n",
       "    </tr>\n",
       "    <tr>\n",
       "      <th>190</th>\n",
       "      <td>Yemen</td>\n",
       "      <td>5490.0</td>\n",
       "      <td>5490.0</td>\n",
       "      <td>5490.0</td>\n",
       "      <td>5490.0</td>\n",
       "      <td>5490.0</td>\n",
       "      <td>5490.0</td>\n",
       "      <td>5490.0</td>\n",
       "      <td>5490.0</td>\n",
       "      <td>5490.0</td>\n",
       "      <td>...</td>\n",
       "      <td>5490.0</td>\n",
       "      <td>5490.0</td>\n",
       "      <td>5490.0</td>\n",
       "      <td>5490.0</td>\n",
       "      <td>5490.0</td>\n",
       "      <td>5490.0</td>\n",
       "      <td>5490.0</td>\n",
       "      <td>5490.0</td>\n",
       "      <td>5490.0</td>\n",
       "      <td>5490.0</td>\n",
       "    </tr>\n",
       "    <tr>\n",
       "      <th>191</th>\n",
       "      <td>Zambia</td>\n",
       "      <td>528000.0</td>\n",
       "      <td>526000.0</td>\n",
       "      <td>525000.0</td>\n",
       "      <td>523000.0</td>\n",
       "      <td>521000.0</td>\n",
       "      <td>520000.0</td>\n",
       "      <td>518000.0</td>\n",
       "      <td>516000.0</td>\n",
       "      <td>515000.0</td>\n",
       "      <td>...</td>\n",
       "      <td>500000.0</td>\n",
       "      <td>498000.0</td>\n",
       "      <td>496000.0</td>\n",
       "      <td>495000.0</td>\n",
       "      <td>493000.0</td>\n",
       "      <td>491000.0</td>\n",
       "      <td>490000.0</td>\n",
       "      <td>488000.0</td>\n",
       "      <td>486000.0</td>\n",
       "      <td>485000.0</td>\n",
       "    </tr>\n",
       "    <tr>\n",
       "      <th>192</th>\n",
       "      <td>Zimbabwe</td>\n",
       "      <td>222000.0</td>\n",
       "      <td>218000.0</td>\n",
       "      <td>215000.0</td>\n",
       "      <td>212000.0</td>\n",
       "      <td>209000.0</td>\n",
       "      <td>205000.0</td>\n",
       "      <td>202000.0</td>\n",
       "      <td>199000.0</td>\n",
       "      <td>195000.0</td>\n",
       "      <td>...</td>\n",
       "      <td>166000.0</td>\n",
       "      <td>163000.0</td>\n",
       "      <td>160000.0</td>\n",
       "      <td>156000.0</td>\n",
       "      <td>153000.0</td>\n",
       "      <td>150000.0</td>\n",
       "      <td>147000.0</td>\n",
       "      <td>144000.0</td>\n",
       "      <td>141000.0</td>\n",
       "      <td>137000.0</td>\n",
       "    </tr>\n",
       "  </tbody>\n",
       "</table>\n",
       "<p>193 rows × 28 columns</p>\n",
       "</div>"
      ],
      "text/plain": [
       "         country      1990      1991      1992      1993      1994      1995  \\\n",
       "0    Afghanistan   13500.0   13500.0   13500.0   13500.0   13500.0   13500.0   \n",
       "1        Albania    7890.0    7870.0    7850.0    7830.0    7810.0    7790.0   \n",
       "2        Algeria   16700.0   16600.0   16500.0   16400.0   16300.0   16200.0   \n",
       "3        Andorra     160.0     160.0     160.0     160.0     160.0     160.0   \n",
       "4         Angola  610000.0  609000.0  607000.0  606000.0  605000.0  604000.0   \n",
       "..           ...       ...       ...       ...       ...       ...       ...   \n",
       "188    Venezuela  520000.0  517000.0  515000.0  512000.0  509000.0  506000.0   \n",
       "189      Vietnam   93600.0   96000.0   98400.0  101000.0  103000.0  105000.0   \n",
       "190        Yemen    5490.0    5490.0    5490.0    5490.0    5490.0    5490.0   \n",
       "191       Zambia  528000.0  526000.0  525000.0  523000.0  521000.0  520000.0   \n",
       "192     Zimbabwe  222000.0  218000.0  215000.0  212000.0  209000.0  205000.0   \n",
       "\n",
       "         1996      1997      1998  ...      2007      2008      2009  \\\n",
       "0     13500.0   13500.0   13500.0  ...   13500.0   13500.0   13500.0   \n",
       "1      7770.0    7750.0    7730.0  ...    7800.0    7790.0    7780.0   \n",
       "2     16100.0   16100.0   16000.0  ...   16900.0   17700.0   18400.0   \n",
       "3       160.0     160.0     160.0  ...     160.0     160.0     160.0   \n",
       "4    602000.0  601000.0  600000.0  ...  589000.0  587000.0  586000.0   \n",
       "..        ...       ...       ...  ...       ...       ...       ...   \n",
       "188  503000.0  500000.0  497000.0  ...  476000.0  476000.0  475000.0   \n",
       "189  108000.0  110000.0  113000.0  ...  135000.0  137000.0  139000.0   \n",
       "190    5490.0    5490.0    5490.0  ...    5490.0    5490.0    5490.0   \n",
       "191  518000.0  516000.0  515000.0  ...  500000.0  498000.0  496000.0   \n",
       "192  202000.0  199000.0  195000.0  ...  166000.0  163000.0  160000.0   \n",
       "\n",
       "         2010      2011      2012      2013      2014      2015      2016  \n",
       "0     13500.0   13500.0   13500.0   13500.0   13500.0   13500.0   13500.0  \n",
       "1      7760.0    7750.0    7740.0    7730.0    7720.0    7720.0    7710.0  \n",
       "2     19200.0   19300.0   19300.0   19400.0   19500.0   19600.0   19600.0  \n",
       "3       160.0     160.0     160.0     160.0     160.0     160.0     160.0  \n",
       "4    585000.0  584000.0  582000.0  581000.0  580000.0  579000.0  577000.0  \n",
       "..        ...       ...       ...       ...       ...       ...       ...  \n",
       "188  475000.0  473000.0  472000.0  470000.0  468000.0  467000.0  465000.0  \n",
       "189  141000.0  143000.0  144000.0  145000.0  146000.0  148000.0  149000.0  \n",
       "190    5490.0    5490.0    5490.0    5490.0    5490.0    5490.0    5490.0  \n",
       "191  495000.0  493000.0  491000.0  490000.0  488000.0  486000.0  485000.0  \n",
       "192  156000.0  153000.0  150000.0  147000.0  144000.0  141000.0  137000.0  \n",
       "\n",
       "[193 rows x 28 columns]"
      ]
     },
     "execution_count": 12,
     "metadata": {},
     "output_type": "execute_result"
    }
   ],
   "source": [
    "f.fillna(f.mean()) #refill null cell "
   ]
  },
  {
   "cell_type": "code",
   "execution_count": 13,
   "metadata": {},
   "outputs": [
    {
     "data": {
      "text/plain": [
       "(193, 28)"
      ]
     },
     "execution_count": 13,
     "metadata": {},
     "output_type": "execute_result"
    }
   ],
   "source": [
    "f.shape # check refill step"
   ]
  },
  {
   "cell_type": "code",
   "execution_count": 14,
   "metadata": {},
   "outputs": [
    {
     "name": "stdout",
     "output_type": "stream",
     "text": [
      "The index of Brazil is \n",
      "23    Brazil\n",
      "Name: country, dtype: object\n",
      "The index of China is \n",
      "35    China\n",
      "Name: country, dtype: object\n",
      "The index of 1990 is\n",
      "1\n",
      "The index of 2015 is \n",
      "26\n"
     ]
    }
   ],
   "source": [
    "index(f,'Brazil','China','1990','2015') # to check existing of requirement in the data"
   ]
  },
  {
   "cell_type": "code",
   "execution_count": 15,
   "metadata": {},
   "outputs": [],
   "source": [
    "#build new data frame\n",
    "Selected= ['Brazil','China']\n",
    "df = f[f['country'].isin(Selected)] \n",
    "ffr= df.iloc[:, 0:27]"
   ]
  },
  {
   "cell_type": "code",
   "execution_count": 16,
   "metadata": {},
   "outputs": [],
   "source": [
    "#arrangment table \n",
    "ffr1= ffr.transpose()\n",
    "ffr1.columns= ['Brazil','China']\n",
    "forest_frame= ffr1.drop(['country'])"
   ]
  },
  {
   "cell_type": "markdown",
   "metadata": {},
   "source": [
    "<a id='wrangling'></a>\n",
    "## Clean Income Data "
   ]
  },
  {
   "cell_type": "code",
   "execution_count": 17,
   "metadata": {},
   "outputs": [
    {
     "name": "stdout",
     "output_type": "stream",
     "text": [
      "General info :\n",
      "<class 'pandas.core.frame.DataFrame'>\n",
      "RangeIndex: 193 entries, 0 to 192\n",
      "Columns: 242 entries, country to 2040\n",
      "dtypes: int64(241), object(1)\n",
      "memory usage: 365.0+ KB\n",
      "None\n",
      "How many duplications?\n",
      "0\n",
      "Any Null?\n",
      "False\n"
     ]
    }
   ],
   "source": [
    "discover(i) #to get general information about income data"
   ]
  },
  {
   "cell_type": "code",
   "execution_count": 18,
   "metadata": {},
   "outputs": [
    {
     "name": "stdout",
     "output_type": "stream",
     "text": [
      "The index of Brazil is \n",
      "23    Brazil\n",
      "Name: country, dtype: object\n",
      "The index of China is \n",
      "35    China\n",
      "Name: country, dtype: object\n",
      "The index of 1990 is\n",
      "191\n",
      "The index of 2015 is \n",
      "216\n"
     ]
    }
   ],
   "source": [
    "index(i,'Brazil','China','1990','2015') # to check existing of requirement in the data"
   ]
  },
  {
   "cell_type": "code",
   "execution_count": 19,
   "metadata": {},
   "outputs": [],
   "source": [
    "#build new data frame\n",
    "Selected= ['Brazil','China']\n",
    "df = i[i['country'].isin(Selected)] \n",
    "fr1= df.iloc[:, [0]] \n",
    "fr2= df.iloc[:, 191:217] \n",
    "ifr = fr1.join([fr2], how='inner', on=None)"
   ]
  },
  {
   "cell_type": "code",
   "execution_count": 20,
   "metadata": {},
   "outputs": [],
   "source": [
    "#arrangment table \n",
    "ifr1= ifr.transpose()\n",
    "ifr1.columns= ['Brazil','China']\n",
    "income_frame= ifr1.drop(['country'])"
   ]
  },
  {
   "cell_type": "markdown",
   "metadata": {},
   "source": [
    "### The data is loaded and adjusted to be ready for next step. \n",
    "1. Obtaing generel iformation about the data and is there and duplication or null cells.\n",
    "2. cleaing data and refill null cells by mean\n",
    "3. Forming a new table to draw the graph \n"
   ]
  },
  {
   "cell_type": "markdown",
   "metadata": {},
   "source": [
    "<a id='eda'></a>\n",
    "## Exploratory Data Analysis"
   ]
  },
  {
   "cell_type": "code",
   "execution_count": 21,
   "metadata": {
    "scrolled": true
   },
   "outputs": [
    {
     "data": {
      "image/png": "[encoded data removed]",
      "text/plain": [
       "<Figure size 432x288 with 1 Axes>"
      ]
     },
     "metadata": {
      "needs_background": "light"
     },
     "output_type": "display_data"
    }
   ],
   "source": [
    "#Popluation\n",
    "#To show population growth rate in both countries during the period.\n",
    "p= pop_frame.plot(kind='area');\n",
    "p.set_xlabel('Year');\n",
    "p.set_ylabel('Popluation');\n",
    "p.set_title('Popluation in China and Brazil');"
   ]
  },
  {
   "cell_type": "markdown",
   "metadata": {},
   "source": []
  },
  {
   "cell_type": "code",
   "execution_count": 22,
   "metadata": {},
   "outputs": [
    {
     "data": {
      "image/png": "[encoded data removed]",
      "text/plain": [
       "<Figure size 432x288 with 1 Axes>"
      ]
     },
     "metadata": {
      "needs_background": "light"
     },
     "output_type": "display_data"
    }
   ],
   "source": [
    "#Forest area (sq. km)\n",
    "#To show altering a forest area in both countries during the period.\n",
    "f= forest_frame.plot(kind='area');\n",
    "f.set_ylabel('Forest area (sq. km)');\n",
    "f.set_xlabel('Year');\n",
    "f.set_title('Forest area in China and Brazil');"
   ]
  },
  {
   "cell_type": "code",
   "execution_count": 448,
   "metadata": {},
   "outputs": [
    {
     "data": {
      "image/png": "[encoded data removed]",
      "text/plain": [
       "<Figure size 432x288 with 1 Axes>"
      ]
     },
     "metadata": {
      "needs_background": "light"
     },
     "output_type": "display_data"
    }
   ],
   "source": [
    "#Income per person (GDP/capita, PPP$ inflation-adjusted)\n",
    "#To show the change in an individual income in both countries during the period. \n",
    "i= income_frame.plot(kind='area');\n",
    "i.set_xlabel('Year');\n",
    "i.set_ylabel('Income per person');\n",
    "i.set_title('Income in China and Brazil');"
   ]
  },
  {
   "cell_type": "markdown",
   "metadata": {},
   "source": [
    "### What is the relationship between population growth rate and forest area? "
   ]
  },
  {
   "cell_type": "code",
   "execution_count": 23,
   "metadata": {},
   "outputs": [
    {
     "data": {
      "image/png": "[encoded data removed]",
      "text/plain": [
       "<Figure size 432x288 with 1 Axes>"
      ]
     },
     "metadata": {
      "needs_background": "light"
     },
     "output_type": "display_data"
    }
   ],
   "source": [
    "x= forest_frame.China \n",
    "y= pop_frame.China\n",
    "plt.scatter(x, y);\n",
    "plt.xlabel('Forest area (sq. km)');\n",
    "plt.ylabel('Population ');\n",
    "plt.title(' Forest area and Number of people in China');\n",
    "#postive correlation between population and Forest area in China"
   ]
  },
  {
   "cell_type": "code",
   "execution_count": 450,
   "metadata": {},
   "outputs": [
    {
     "data": {
      "image/png": "[encoded data removed]",
      "text/plain": [
       "<Figure size 432x288 with 1 Axes>"
      ]
     },
     "metadata": {
      "needs_background": "light"
     },
     "output_type": "display_data"
    }
   ],
   "source": [
    "x= forest_frame.Brazil \n",
    "y= pop_frame.Brazil\n",
    "plt.scatter(x, y);\n",
    "plt.xlabel('Forest area (sq. km) ');\n",
    "plt.ylabel('Population ');\n",
    "plt.title('Forest area and Number of people in Brazil');\n",
    "#negative correlation between population and Forest area in China"
   ]
  },
  {
   "cell_type": "markdown",
   "metadata": {},
   "source": [
    "### What is the relationship between population growth rate and individual income rate? "
   ]
  },
  {
   "cell_type": "code",
   "execution_count": 451,
   "metadata": {},
   "outputs": [
    {
     "data": {
      "image/png": "[encoded data removed]",
      "text/plain": [
       "<Figure size 432x288 with 1 Axes>"
      ]
     },
     "metadata": {
      "needs_background": "light"
     },
     "output_type": "display_data"
    }
   ],
   "source": [
    "x= income_frame.China \n",
    "y= pop_frame.China\n",
    "plt.scatter(x, y);\n",
    "plt.xlabel('Income per person in $');\n",
    "plt.ylabel('Population ');\n",
    "plt.title('Income and population in China');\n",
    "#postive correlation between population and Income per person  in China"
   ]
  },
  {
   "cell_type": "code",
   "execution_count": 452,
   "metadata": {},
   "outputs": [
    {
     "data": {
      "image/png": "[encoded data removed]",
      "text/plain": [
       "<Figure size 432x288 with 1 Axes>"
      ]
     },
     "metadata": {
      "needs_background": "light"
     },
     "output_type": "display_data"
    }
   ],
   "source": [
    "x= income_frame.Brazil \n",
    "y= pop_frame.Brazil\n",
    "plt.scatter(x, y);\n",
    "plt.xlabel('Income per person in $ ');\n",
    "plt.ylabel('Population');\n",
    "plt.title('Income and population in Brazil');\n",
    "#postive correlation between population and Income per person in Brazil"
   ]
  },
  {
   "cell_type": "markdown",
   "metadata": {},
   "source": [
    "--------------------------------------------------------------------------------------\n",
    "<a id='conclusions'></a>\n",
    "## Conclusions\n",
    "### Results:\n",
    "1. The population growth rate shows a gradual increase in China as well as a stable in Brazel \n",
    "2. The forest area graph shows that China has approxmitly 70M sq. km of forest are does not derease while Brazil records decrease from 60M sq. km to 55M sq.km between 1990 and 2015.\n",
    "3. The income graphs shows that individual income rate in China has seen rocketed increase in the period while Brazilian income rate was increased gradually and started decreasing in 2013.\n",
    "4. China has seen postive relation between poopulation rate and forest area and income rate. \n",
    "5. Brazil has seen a positve realtion between  the population rate and income rate and anegative correlation with forest area. \n",
    "\n",
    "\n",
    "### Limitions:\n",
    "1. The analysis indicates that population factor has not solety correlation with forest area.\n",
    "2. The data does not provide details about people distribution and what type of their activities are influence on forest area."
   ]
  },
  {
   "cell_type": "code",
   "execution_count": 453,
   "metadata": {},
   "outputs": [
    {
     "data": {
      "text/plain": [
       "255"
      ]
     },
     "execution_count": 453,
     "metadata": {},
     "output_type": "execute_result"
    }
   ],
   "source": [
    "from subprocess import call\n",
    "call(['python', '-m', 'nbconvert', 'Investigate_a_Dataset.ipynb'])"
   ]
  },
  {
   "cell_type": "code",
   "execution_count": null,
   "metadata": {},
   "outputs": [],
   "source": []
  }
 ],
 "metadata": {
  "kernelspec": {
   "display_name": "Python 3",
   "language": "python",
   "name": "python3"
  },
  "language_info": {
   "codemirror_mode": {
    "name": "ipython",
    "version": 3
   },
   "file_extension": ".py",
   "mimetype": "text/x-python",
   "name": "python",
   "nbconvert_exporter": "python",
   "pygments_lexer": "ipython3",
   "version": "3.7.6"
  }
 },
 "nbformat": 4,
 "nbformat_minor": 2
}
