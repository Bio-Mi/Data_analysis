{
 "cells": [
  {
   "cell_type": "markdown",
   "metadata": {
    "slideshow": {
     "slide_type": "slide"
    }
   },
   "source": [
    "# Visualizing FordGoBike Data"
   ]
  },
  {
   "cell_type": "markdown",
   "metadata": {
    "slideshow": {
     "slide_type": "subslide"
    }
   },
   "source": [
    "## June 2017 - December 2017"
   ]
  },
  {
   "cell_type": "markdown",
   "metadata": {},
   "source": [
    "# Preliminary Wrangling"
   ]
  },
  {
   "cell_type": "markdown",
   "metadata": {},
   "source": [
    "My investigation was desgined to study the effect of differents fact on the Ford GoBike system (FGS). The database includes information about individual rides made in a bike-sharing system covering the greater San Francisco Bay area. The data was uploaded on this link https://s3.amazonaws.com/fordgobike-data/2017-fordgobike-tripdata.csv"
   ]
  },
  {
   "cell_type": "code",
   "execution_count": 7,
   "metadata": {
    "slideshow": {
     "slide_type": "skip"
    }
   },
   "outputs": [],
   "source": [
    "# import all packages and set plots to be embedded inline\n",
    "import numpy as np\n",
    "import pandas as pd\n",
    "import matplotlib.pyplot as plt\n",
    "%matplotlib inline\n",
    "import seaborn as sb\n",
    "from jupyterthemes import jtplot\n",
    "jtplot.style(theme='onedork')\n",
    "import glob\n",
    "import os\n",
    "import math\n",
    "import datetime"
   ]
  },
  {
   "cell_type": "code",
   "execution_count": 8,
   "metadata": {
    "slideshow": {
     "slide_type": "skip"
    }
   },
   "outputs": [
    {
     "data": {
      "text/html": [
       "<div>\n",
       "<style scoped>\n",
       "    .dataframe tbody tr th:only-of-type {\n",
       "        vertical-align: middle;\n",
       "    }\n",
       "\n",
       "    .dataframe tbody tr th {\n",
       "        vertical-align: top;\n",
       "    }\n",
       "\n",
       "    .dataframe thead th {\n",
       "        text-align: right;\n",
       "    }\n",
       "</style>\n",
       "<table border=\"1\" class=\"dataframe\">\n",
       "  <thead>\n",
       "    <tr style=\"text-align: right;\">\n",
       "      <th></th>\n",
       "      <th>duration_sec</th>\n",
       "      <th>start_time</th>\n",
       "      <th>end_time</th>\n",
       "      <th>start_station_id</th>\n",
       "      <th>start_station_name</th>\n",
       "      <th>start_station_latitude</th>\n",
       "      <th>start_station_longitude</th>\n",
       "      <th>end_station_id</th>\n",
       "      <th>end_station_name</th>\n",
       "      <th>end_station_latitude</th>\n",
       "      <th>end_station_longitude</th>\n",
       "      <th>bike_id</th>\n",
       "      <th>user_type</th>\n",
       "      <th>member_birth_year</th>\n",
       "      <th>member_gender</th>\n",
       "    </tr>\n",
       "  </thead>\n",
       "  <tbody>\n",
       "    <tr>\n",
       "      <th>0</th>\n",
       "      <td>80110</td>\n",
       "      <td>2017-12-31 16:57:39.6540</td>\n",
       "      <td>2018-01-01 15:12:50.2450</td>\n",
       "      <td>74</td>\n",
       "      <td>Laguna St at Hayes St</td>\n",
       "      <td>37.776435</td>\n",
       "      <td>-122.426244</td>\n",
       "      <td>43</td>\n",
       "      <td>San Francisco Public Library (Grove St at Hyde...</td>\n",
       "      <td>37.778768</td>\n",
       "      <td>-122.415929</td>\n",
       "      <td>96</td>\n",
       "      <td>Customer</td>\n",
       "      <td>1987.0</td>\n",
       "      <td>Male</td>\n",
       "    </tr>\n",
       "    <tr>\n",
       "      <th>1</th>\n",
       "      <td>78800</td>\n",
       "      <td>2017-12-31 15:56:34.8420</td>\n",
       "      <td>2018-01-01 13:49:55.6170</td>\n",
       "      <td>284</td>\n",
       "      <td>Yerba Buena Center for the Arts (Howard St at ...</td>\n",
       "      <td>37.784872</td>\n",
       "      <td>-122.400876</td>\n",
       "      <td>96</td>\n",
       "      <td>Dolores St at 15th St</td>\n",
       "      <td>37.766210</td>\n",
       "      <td>-122.426614</td>\n",
       "      <td>88</td>\n",
       "      <td>Customer</td>\n",
       "      <td>1965.0</td>\n",
       "      <td>Female</td>\n",
       "    </tr>\n",
       "    <tr>\n",
       "      <th>2</th>\n",
       "      <td>45768</td>\n",
       "      <td>2017-12-31 22:45:48.4110</td>\n",
       "      <td>2018-01-01 11:28:36.8830</td>\n",
       "      <td>245</td>\n",
       "      <td>Downtown Berkeley BART</td>\n",
       "      <td>37.870348</td>\n",
       "      <td>-122.267764</td>\n",
       "      <td>245</td>\n",
       "      <td>Downtown Berkeley BART</td>\n",
       "      <td>37.870348</td>\n",
       "      <td>-122.267764</td>\n",
       "      <td>1094</td>\n",
       "      <td>Customer</td>\n",
       "      <td>NaN</td>\n",
       "      <td>NaN</td>\n",
       "    </tr>\n",
       "    <tr>\n",
       "      <th>3</th>\n",
       "      <td>62172</td>\n",
       "      <td>2017-12-31 17:31:10.6360</td>\n",
       "      <td>2018-01-01 10:47:23.5310</td>\n",
       "      <td>60</td>\n",
       "      <td>8th St at Ringold St</td>\n",
       "      <td>37.774520</td>\n",
       "      <td>-122.409449</td>\n",
       "      <td>5</td>\n",
       "      <td>Powell St BART Station (Market St at 5th St)</td>\n",
       "      <td>37.783899</td>\n",
       "      <td>-122.408445</td>\n",
       "      <td>2831</td>\n",
       "      <td>Customer</td>\n",
       "      <td>NaN</td>\n",
       "      <td>NaN</td>\n",
       "    </tr>\n",
       "    <tr>\n",
       "      <th>4</th>\n",
       "      <td>43603</td>\n",
       "      <td>2017-12-31 14:23:14.0010</td>\n",
       "      <td>2018-01-01 02:29:57.5710</td>\n",
       "      <td>239</td>\n",
       "      <td>Bancroft Way at Telegraph Ave</td>\n",
       "      <td>37.868813</td>\n",
       "      <td>-122.258764</td>\n",
       "      <td>247</td>\n",
       "      <td>Fulton St at Bancroft Way</td>\n",
       "      <td>37.867789</td>\n",
       "      <td>-122.265896</td>\n",
       "      <td>3167</td>\n",
       "      <td>Subscriber</td>\n",
       "      <td>1997.0</td>\n",
       "      <td>Female</td>\n",
       "    </tr>\n",
       "  </tbody>\n",
       "</table>\n",
       "</div>"
      ],
      "text/plain": [
       "   duration_sec                start_time                  end_time  \\\n",
       "0         80110  2017-12-31 16:57:39.6540  2018-01-01 15:12:50.2450   \n",
       "1         78800  2017-12-31 15:56:34.8420  2018-01-01 13:49:55.6170   \n",
       "2         45768  2017-12-31 22:45:48.4110  2018-01-01 11:28:36.8830   \n",
       "3         62172  2017-12-31 17:31:10.6360  2018-01-01 10:47:23.5310   \n",
       "4         43603  2017-12-31 14:23:14.0010  2018-01-01 02:29:57.5710   \n",
       "\n",
       "   start_station_id                                 start_station_name  \\\n",
       "0                74                              Laguna St at Hayes St   \n",
       "1               284  Yerba Buena Center for the Arts (Howard St at ...   \n",
       "2               245                             Downtown Berkeley BART   \n",
       "3                60                               8th St at Ringold St   \n",
       "4               239                      Bancroft Way at Telegraph Ave   \n",
       "\n",
       "   start_station_latitude  start_station_longitude  end_station_id  \\\n",
       "0               37.776435              -122.426244              43   \n",
       "1               37.784872              -122.400876              96   \n",
       "2               37.870348              -122.267764             245   \n",
       "3               37.774520              -122.409449               5   \n",
       "4               37.868813              -122.258764             247   \n",
       "\n",
       "                                    end_station_name  end_station_latitude  \\\n",
       "0  San Francisco Public Library (Grove St at Hyde...             37.778768   \n",
       "1                              Dolores St at 15th St             37.766210   \n",
       "2                             Downtown Berkeley BART             37.870348   \n",
       "3       Powell St BART Station (Market St at 5th St)             37.783899   \n",
       "4                          Fulton St at Bancroft Way             37.867789   \n",
       "\n",
       "   end_station_longitude  bike_id   user_type  member_birth_year member_gender  \n",
       "0            -122.415929       96    Customer             1987.0          Male  \n",
       "1            -122.426614       88    Customer             1965.0        Female  \n",
       "2            -122.267764     1094    Customer                NaN           NaN  \n",
       "3            -122.408445     2831    Customer                NaN           NaN  \n",
       "4            -122.265896     3167  Subscriber             1997.0        Female  "
      ]
     },
     "execution_count": 8,
     "metadata": {},
     "output_type": "execute_result"
    }
   ],
   "source": [
    "ds_inv = pd.read_csv('2017ford.csv')\n",
    "ds_inv.head()"
   ]
  },
  {
   "cell_type": "markdown",
   "metadata": {
    "slideshow": {
     "slide_type": "slide"
    }
   },
   "source": [
    "# Discovering data"
   ]
  },
  {
   "cell_type": "code",
   "execution_count": 9,
   "metadata": {
    "slideshow": {
     "slide_type": "subslide"
    }
   },
   "outputs": [
    {
     "data": {
      "text/html": [
       "<div>\n",
       "<style scoped>\n",
       "    .dataframe tbody tr th:only-of-type {\n",
       "        vertical-align: middle;\n",
       "    }\n",
       "\n",
       "    .dataframe tbody tr th {\n",
       "        vertical-align: top;\n",
       "    }\n",
       "\n",
       "    .dataframe thead th {\n",
       "        text-align: right;\n",
       "    }\n",
       "</style>\n",
       "<table border=\"1\" class=\"dataframe\">\n",
       "  <thead>\n",
       "    <tr style=\"text-align: right;\">\n",
       "      <th></th>\n",
       "      <th>duration_sec</th>\n",
       "      <th>start_time</th>\n",
       "      <th>end_time</th>\n",
       "      <th>start_station_id</th>\n",
       "      <th>start_station_name</th>\n",
       "      <th>start_station_latitude</th>\n",
       "      <th>start_station_longitude</th>\n",
       "      <th>end_station_id</th>\n",
       "      <th>end_station_name</th>\n",
       "      <th>end_station_latitude</th>\n",
       "      <th>end_station_longitude</th>\n",
       "      <th>bike_id</th>\n",
       "      <th>user_type</th>\n",
       "      <th>member_birth_year</th>\n",
       "      <th>member_gender</th>\n",
       "    </tr>\n",
       "  </thead>\n",
       "  <tbody>\n",
       "    <tr>\n",
       "      <th>320903</th>\n",
       "      <td>559</td>\n",
       "      <td>2017-09-22 08:55:23.5380</td>\n",
       "      <td>2017-09-22 09:04:43.2520</td>\n",
       "      <td>194</td>\n",
       "      <td>Lakeshore Ave at Trestle Glen Rd</td>\n",
       "      <td>37.811081</td>\n",
       "      <td>-122.243268</td>\n",
       "      <td>181</td>\n",
       "      <td>Grand Ave at Webster St</td>\n",
       "      <td>37.811377</td>\n",
       "      <td>-122.265192</td>\n",
       "      <td>1212</td>\n",
       "      <td>Subscriber</td>\n",
       "      <td>1981.0</td>\n",
       "      <td>Male</td>\n",
       "    </tr>\n",
       "    <tr>\n",
       "      <th>410098</th>\n",
       "      <td>643</td>\n",
       "      <td>2017-08-25 08:54:40.1050</td>\n",
       "      <td>2017-08-25 09:05:23.4030</td>\n",
       "      <td>67</td>\n",
       "      <td>San Francisco Caltrain Station 2  (Townsend St...</td>\n",
       "      <td>37.776639</td>\n",
       "      <td>-122.395526</td>\n",
       "      <td>58</td>\n",
       "      <td>Market St at 10th St</td>\n",
       "      <td>37.776619</td>\n",
       "      <td>-122.417385</td>\n",
       "      <td>1695</td>\n",
       "      <td>Subscriber</td>\n",
       "      <td>1982.0</td>\n",
       "      <td>Male</td>\n",
       "    </tr>\n",
       "    <tr>\n",
       "      <th>55464</th>\n",
       "      <td>877</td>\n",
       "      <td>2017-12-09 19:24:35.7720</td>\n",
       "      <td>2017-12-09 19:39:13.6870</td>\n",
       "      <td>27</td>\n",
       "      <td>Beale St at Harrison St</td>\n",
       "      <td>37.788059</td>\n",
       "      <td>-122.391865</td>\n",
       "      <td>5</td>\n",
       "      <td>Powell St BART Station (Market St at 5th St)</td>\n",
       "      <td>37.783899</td>\n",
       "      <td>-122.408445</td>\n",
       "      <td>2762</td>\n",
       "      <td>Subscriber</td>\n",
       "      <td>1991.0</td>\n",
       "      <td>Male</td>\n",
       "    </tr>\n",
       "    <tr>\n",
       "      <th>299543</th>\n",
       "      <td>384</td>\n",
       "      <td>2017-09-28 12:26:19.5590</td>\n",
       "      <td>2017-09-28 12:32:43.6670</td>\n",
       "      <td>6</td>\n",
       "      <td>The Embarcadero at Sansome St</td>\n",
       "      <td>37.804770</td>\n",
       "      <td>-122.403234</td>\n",
       "      <td>15</td>\n",
       "      <td>San Francisco Ferry Building (Harry Bridges Pl...</td>\n",
       "      <td>37.795392</td>\n",
       "      <td>-122.394203</td>\n",
       "      <td>309</td>\n",
       "      <td>Subscriber</td>\n",
       "      <td>1985.0</td>\n",
       "      <td>Male</td>\n",
       "    </tr>\n",
       "    <tr>\n",
       "      <th>370100</th>\n",
       "      <td>1350</td>\n",
       "      <td>2017-09-07 17:49:21.0570</td>\n",
       "      <td>2017-09-07 18:11:51.6560</td>\n",
       "      <td>132</td>\n",
       "      <td>24th St at Chattanooga St</td>\n",
       "      <td>37.751819</td>\n",
       "      <td>-122.426614</td>\n",
       "      <td>77</td>\n",
       "      <td>11th St at Natoma St</td>\n",
       "      <td>37.773507</td>\n",
       "      <td>-122.416040</td>\n",
       "      <td>1504</td>\n",
       "      <td>Customer</td>\n",
       "      <td>1987.0</td>\n",
       "      <td>Female</td>\n",
       "    </tr>\n",
       "    <tr>\n",
       "      <th>504718</th>\n",
       "      <td>597</td>\n",
       "      <td>2017-07-13 17:03:36.1340</td>\n",
       "      <td>2017-07-13 17:13:33.6090</td>\n",
       "      <td>30</td>\n",
       "      <td>San Francisco Caltrain (Townsend St at 4th St)</td>\n",
       "      <td>37.776598</td>\n",
       "      <td>-122.395282</td>\n",
       "      <td>3</td>\n",
       "      <td>Powell St BART Station (Market St at 4th St)</td>\n",
       "      <td>37.786375</td>\n",
       "      <td>-122.404904</td>\n",
       "      <td>1043</td>\n",
       "      <td>Subscriber</td>\n",
       "      <td>1970.0</td>\n",
       "      <td>Male</td>\n",
       "    </tr>\n",
       "    <tr>\n",
       "      <th>306698</th>\n",
       "      <td>503</td>\n",
       "      <td>2017-09-26 17:36:32.7380</td>\n",
       "      <td>2017-09-26 17:44:56.3800</td>\n",
       "      <td>25</td>\n",
       "      <td>Howard St at 2nd St</td>\n",
       "      <td>37.787522</td>\n",
       "      <td>-122.397405</td>\n",
       "      <td>30</td>\n",
       "      <td>San Francisco Caltrain (Townsend St at 4th St)</td>\n",
       "      <td>37.776598</td>\n",
       "      <td>-122.395282</td>\n",
       "      <td>2912</td>\n",
       "      <td>Subscriber</td>\n",
       "      <td>1989.0</td>\n",
       "      <td>Male</td>\n",
       "    </tr>\n",
       "    <tr>\n",
       "      <th>97183</th>\n",
       "      <td>124</td>\n",
       "      <td>2017-11-28 14:07:27.8880</td>\n",
       "      <td>2017-11-28 14:09:32.1630</td>\n",
       "      <td>324</td>\n",
       "      <td>Union Square (Powell St at Post St)</td>\n",
       "      <td>37.788300</td>\n",
       "      <td>-122.408531</td>\n",
       "      <td>4</td>\n",
       "      <td>Cyril Magnin St at Ellis St</td>\n",
       "      <td>37.785881</td>\n",
       "      <td>-122.408915</td>\n",
       "      <td>1596</td>\n",
       "      <td>Subscriber</td>\n",
       "      <td>1989.0</td>\n",
       "      <td>Male</td>\n",
       "    </tr>\n",
       "    <tr>\n",
       "      <th>88631</th>\n",
       "      <td>91</td>\n",
       "      <td>2017-11-30 14:12:28.0740</td>\n",
       "      <td>2017-11-30 14:13:59.2680</td>\n",
       "      <td>243</td>\n",
       "      <td>Bancroft Way at College Ave</td>\n",
       "      <td>37.869360</td>\n",
       "      <td>-122.254337</td>\n",
       "      <td>239</td>\n",
       "      <td>Bancroft Way at Telegraph Ave</td>\n",
       "      <td>37.868813</td>\n",
       "      <td>-122.258764</td>\n",
       "      <td>1013</td>\n",
       "      <td>Subscriber</td>\n",
       "      <td>1997.0</td>\n",
       "      <td>Male</td>\n",
       "    </tr>\n",
       "    <tr>\n",
       "      <th>91570</th>\n",
       "      <td>804</td>\n",
       "      <td>2017-11-29 18:27:56.7410</td>\n",
       "      <td>2017-11-29 18:41:21.3510</td>\n",
       "      <td>58</td>\n",
       "      <td>Market St at 10th St</td>\n",
       "      <td>37.776619</td>\n",
       "      <td>-122.417385</td>\n",
       "      <td>67</td>\n",
       "      <td>San Francisco Caltrain Station 2  (Townsend St...</td>\n",
       "      <td>37.776639</td>\n",
       "      <td>-122.395526</td>\n",
       "      <td>1077</td>\n",
       "      <td>Subscriber</td>\n",
       "      <td>1973.0</td>\n",
       "      <td>Male</td>\n",
       "    </tr>\n",
       "  </tbody>\n",
       "</table>\n",
       "</div>"
      ],
      "text/plain": [
       "        duration_sec                start_time                  end_time  \\\n",
       "320903           559  2017-09-22 08:55:23.5380  2017-09-22 09:04:43.2520   \n",
       "410098           643  2017-08-25 08:54:40.1050  2017-08-25 09:05:23.4030   \n",
       "55464            877  2017-12-09 19:24:35.7720  2017-12-09 19:39:13.6870   \n",
       "299543           384  2017-09-28 12:26:19.5590  2017-09-28 12:32:43.6670   \n",
       "370100          1350  2017-09-07 17:49:21.0570  2017-09-07 18:11:51.6560   \n",
       "504718           597  2017-07-13 17:03:36.1340  2017-07-13 17:13:33.6090   \n",
       "306698           503  2017-09-26 17:36:32.7380  2017-09-26 17:44:56.3800   \n",
       "97183            124  2017-11-28 14:07:27.8880  2017-11-28 14:09:32.1630   \n",
       "88631             91  2017-11-30 14:12:28.0740  2017-11-30 14:13:59.2680   \n",
       "91570            804  2017-11-29 18:27:56.7410  2017-11-29 18:41:21.3510   \n",
       "\n",
       "        start_station_id                                 start_station_name  \\\n",
       "320903               194                   Lakeshore Ave at Trestle Glen Rd   \n",
       "410098                67  San Francisco Caltrain Station 2  (Townsend St...   \n",
       "55464                 27                            Beale St at Harrison St   \n",
       "299543                 6                      The Embarcadero at Sansome St   \n",
       "370100               132                          24th St at Chattanooga St   \n",
       "504718                30     San Francisco Caltrain (Townsend St at 4th St)   \n",
       "306698                25                                Howard St at 2nd St   \n",
       "97183                324                Union Square (Powell St at Post St)   \n",
       "88631                243                        Bancroft Way at College Ave   \n",
       "91570                 58                               Market St at 10th St   \n",
       "\n",
       "        start_station_latitude  start_station_longitude  end_station_id  \\\n",
       "320903               37.811081              -122.243268             181   \n",
       "410098               37.776639              -122.395526              58   \n",
       "55464                37.788059              -122.391865               5   \n",
       "299543               37.804770              -122.403234              15   \n",
       "370100               37.751819              -122.426614              77   \n",
       "504718               37.776598              -122.395282               3   \n",
       "306698               37.787522              -122.397405              30   \n",
       "97183                37.788300              -122.408531               4   \n",
       "88631                37.869360              -122.254337             239   \n",
       "91570                37.776619              -122.417385              67   \n",
       "\n",
       "                                         end_station_name  \\\n",
       "320903                            Grand Ave at Webster St   \n",
       "410098                               Market St at 10th St   \n",
       "55464        Powell St BART Station (Market St at 5th St)   \n",
       "299543  San Francisco Ferry Building (Harry Bridges Pl...   \n",
       "370100                               11th St at Natoma St   \n",
       "504718       Powell St BART Station (Market St at 4th St)   \n",
       "306698     San Francisco Caltrain (Townsend St at 4th St)   \n",
       "97183                         Cyril Magnin St at Ellis St   \n",
       "88631                       Bancroft Way at Telegraph Ave   \n",
       "91570   San Francisco Caltrain Station 2  (Townsend St...   \n",
       "\n",
       "        end_station_latitude  end_station_longitude  bike_id   user_type  \\\n",
       "320903             37.811377            -122.265192     1212  Subscriber   \n",
       "410098             37.776619            -122.417385     1695  Subscriber   \n",
       "55464              37.783899            -122.408445     2762  Subscriber   \n",
       "299543             37.795392            -122.394203      309  Subscriber   \n",
       "370100             37.773507            -122.416040     1504    Customer   \n",
       "504718             37.786375            -122.404904     1043  Subscriber   \n",
       "306698             37.776598            -122.395282     2912  Subscriber   \n",
       "97183              37.785881            -122.408915     1596  Subscriber   \n",
       "88631              37.868813            -122.258764     1013  Subscriber   \n",
       "91570              37.776639            -122.395526     1077  Subscriber   \n",
       "\n",
       "        member_birth_year member_gender  \n",
       "320903             1981.0          Male  \n",
       "410098             1982.0          Male  \n",
       "55464              1991.0          Male  \n",
       "299543             1985.0          Male  \n",
       "370100             1987.0        Female  \n",
       "504718             1970.0          Male  \n",
       "306698             1989.0          Male  \n",
       "97183              1989.0          Male  \n",
       "88631              1997.0          Male  \n",
       "91570              1973.0          Male  "
      ]
     },
     "execution_count": 9,
     "metadata": {},
     "output_type": "execute_result"
    }
   ],
   "source": [
    "ds_inv.sample(10)"
   ]
  },
  {
   "cell_type": "code",
   "execution_count": 10,
   "metadata": {
    "slideshow": {
     "slide_type": "subslide"
    }
   },
   "outputs": [
    {
     "name": "stdout",
     "output_type": "stream",
     "text": [
      "<class 'pandas.core.frame.DataFrame'>\n",
      "RangeIndex: 519700 entries, 0 to 519699\n",
      "Data columns (total 15 columns):\n",
      " #   Column                   Non-Null Count   Dtype  \n",
      "---  ------                   --------------   -----  \n",
      " 0   duration_sec             519700 non-null  int64  \n",
      " 1   start_time               519700 non-null  object \n",
      " 2   end_time                 519700 non-null  object \n",
      " 3   start_station_id         519700 non-null  int64  \n",
      " 4   start_station_name       519700 non-null  object \n",
      " 5   start_station_latitude   519700 non-null  float64\n",
      " 6   start_station_longitude  519700 non-null  float64\n",
      " 7   end_station_id           519700 non-null  int64  \n",
      " 8   end_station_name         519700 non-null  object \n",
      " 9   end_station_latitude     519700 non-null  float64\n",
      " 10  end_station_longitude    519700 non-null  float64\n",
      " 11  bike_id                  519700 non-null  int64  \n",
      " 12  user_type                519700 non-null  object \n",
      " 13  member_birth_year        453159 non-null  float64\n",
      " 14  member_gender            453238 non-null  object \n",
      "dtypes: float64(5), int64(4), object(6)\n",
      "memory usage: 59.5+ MB\n"
     ]
    }
   ],
   "source": [
    "ds_inv.info(null_counts = True)"
   ]
  },
  {
   "cell_type": "code",
   "execution_count": 11,
   "metadata": {
    "slideshow": {
     "slide_type": "subslide"
    }
   },
   "outputs": [
    {
     "data": {
      "text/html": [
       "<div>\n",
       "<style scoped>\n",
       "    .dataframe tbody tr th:only-of-type {\n",
       "        vertical-align: middle;\n",
       "    }\n",
       "\n",
       "    .dataframe tbody tr th {\n",
       "        vertical-align: top;\n",
       "    }\n",
       "\n",
       "    .dataframe thead th {\n",
       "        text-align: right;\n",
       "    }\n",
       "</style>\n",
       "<table border=\"1\" class=\"dataframe\">\n",
       "  <thead>\n",
       "    <tr style=\"text-align: right;\">\n",
       "      <th></th>\n",
       "      <th>duration_sec</th>\n",
       "      <th>start_station_id</th>\n",
       "      <th>start_station_latitude</th>\n",
       "      <th>start_station_longitude</th>\n",
       "      <th>end_station_id</th>\n",
       "      <th>end_station_latitude</th>\n",
       "      <th>end_station_longitude</th>\n",
       "      <th>bike_id</th>\n",
       "      <th>member_birth_year</th>\n",
       "    </tr>\n",
       "  </thead>\n",
       "  <tbody>\n",
       "    <tr>\n",
       "      <th>count</th>\n",
       "      <td>519700.000000</td>\n",
       "      <td>519700.000000</td>\n",
       "      <td>519700.000000</td>\n",
       "      <td>519700.000000</td>\n",
       "      <td>519700.000000</td>\n",
       "      <td>519700.000000</td>\n",
       "      <td>519700.000000</td>\n",
       "      <td>519700.000000</td>\n",
       "      <td>453159.000000</td>\n",
       "    </tr>\n",
       "    <tr>\n",
       "      <th>mean</th>\n",
       "      <td>1099.009521</td>\n",
       "      <td>95.034245</td>\n",
       "      <td>37.771653</td>\n",
       "      <td>-122.363927</td>\n",
       "      <td>92.184041</td>\n",
       "      <td>37.771844</td>\n",
       "      <td>-122.363236</td>\n",
       "      <td>1672.533079</td>\n",
       "      <td>1980.404787</td>\n",
       "    </tr>\n",
       "    <tr>\n",
       "      <th>std</th>\n",
       "      <td>3444.146451</td>\n",
       "      <td>86.083078</td>\n",
       "      <td>0.086305</td>\n",
       "      <td>0.105573</td>\n",
       "      <td>84.969491</td>\n",
       "      <td>0.086224</td>\n",
       "      <td>0.105122</td>\n",
       "      <td>971.356959</td>\n",
       "      <td>10.513488</td>\n",
       "    </tr>\n",
       "    <tr>\n",
       "      <th>min</th>\n",
       "      <td>61.000000</td>\n",
       "      <td>3.000000</td>\n",
       "      <td>37.317298</td>\n",
       "      <td>-122.444293</td>\n",
       "      <td>3.000000</td>\n",
       "      <td>37.317298</td>\n",
       "      <td>-122.444293</td>\n",
       "      <td>10.000000</td>\n",
       "      <td>1886.000000</td>\n",
       "    </tr>\n",
       "    <tr>\n",
       "      <th>25%</th>\n",
       "      <td>382.000000</td>\n",
       "      <td>24.000000</td>\n",
       "      <td>37.773492</td>\n",
       "      <td>-122.411726</td>\n",
       "      <td>23.000000</td>\n",
       "      <td>37.774520</td>\n",
       "      <td>-122.410345</td>\n",
       "      <td>787.000000</td>\n",
       "      <td>1974.000000</td>\n",
       "    </tr>\n",
       "    <tr>\n",
       "      <th>50%</th>\n",
       "      <td>596.000000</td>\n",
       "      <td>67.000000</td>\n",
       "      <td>37.783521</td>\n",
       "      <td>-122.398870</td>\n",
       "      <td>66.000000</td>\n",
       "      <td>37.783830</td>\n",
       "      <td>-122.398525</td>\n",
       "      <td>1728.500000</td>\n",
       "      <td>1983.000000</td>\n",
       "    </tr>\n",
       "    <tr>\n",
       "      <th>75%</th>\n",
       "      <td>938.000000</td>\n",
       "      <td>139.000000</td>\n",
       "      <td>37.795392</td>\n",
       "      <td>-122.391034</td>\n",
       "      <td>134.000000</td>\n",
       "      <td>37.795392</td>\n",
       "      <td>-122.391034</td>\n",
       "      <td>2520.000000</td>\n",
       "      <td>1988.000000</td>\n",
       "    </tr>\n",
       "    <tr>\n",
       "      <th>max</th>\n",
       "      <td>86369.000000</td>\n",
       "      <td>340.000000</td>\n",
       "      <td>37.880222</td>\n",
       "      <td>-121.874119</td>\n",
       "      <td>340.000000</td>\n",
       "      <td>37.880222</td>\n",
       "      <td>-121.874119</td>\n",
       "      <td>3733.000000</td>\n",
       "      <td>1999.000000</td>\n",
       "    </tr>\n",
       "  </tbody>\n",
       "</table>\n",
       "</div>"
      ],
      "text/plain": [
       "        duration_sec  start_station_id  start_station_latitude  \\\n",
       "count  519700.000000     519700.000000           519700.000000   \n",
       "mean     1099.009521         95.034245               37.771653   \n",
       "std      3444.146451         86.083078                0.086305   \n",
       "min        61.000000          3.000000               37.317298   \n",
       "25%       382.000000         24.000000               37.773492   \n",
       "50%       596.000000         67.000000               37.783521   \n",
       "75%       938.000000        139.000000               37.795392   \n",
       "max     86369.000000        340.000000               37.880222   \n",
       "\n",
       "       start_station_longitude  end_station_id  end_station_latitude  \\\n",
       "count            519700.000000   519700.000000         519700.000000   \n",
       "mean               -122.363927       92.184041             37.771844   \n",
       "std                   0.105573       84.969491              0.086224   \n",
       "min                -122.444293        3.000000             37.317298   \n",
       "25%                -122.411726       23.000000             37.774520   \n",
       "50%                -122.398870       66.000000             37.783830   \n",
       "75%                -122.391034      134.000000             37.795392   \n",
       "max                -121.874119      340.000000             37.880222   \n",
       "\n",
       "       end_station_longitude        bike_id  member_birth_year  \n",
       "count          519700.000000  519700.000000      453159.000000  \n",
       "mean             -122.363236    1672.533079        1980.404787  \n",
       "std                 0.105122     971.356959          10.513488  \n",
       "min              -122.444293      10.000000        1886.000000  \n",
       "25%              -122.410345     787.000000        1974.000000  \n",
       "50%              -122.398525    1728.500000        1983.000000  \n",
       "75%              -122.391034    2520.000000        1988.000000  \n",
       "max              -121.874119    3733.000000        1999.000000  "
      ]
     },
     "execution_count": 11,
     "metadata": {},
     "output_type": "execute_result"
    }
   ],
   "source": [
    "ds_inv.describe()"
   ]
  },
  {
   "cell_type": "code",
   "execution_count": 12,
   "metadata": {
    "slideshow": {
     "slide_type": "subslide"
    }
   },
   "outputs": [
    {
     "data": {
      "text/plain": [
       "(519700, 15)"
      ]
     },
     "execution_count": 12,
     "metadata": {},
     "output_type": "execute_result"
    }
   ],
   "source": [
    "ds_inv.shape"
   ]
  },
  {
   "cell_type": "code",
   "execution_count": 13,
   "metadata": {
    "slideshow": {
     "slide_type": "subslide"
    }
   },
   "outputs": [
    {
     "data": {
      "text/plain": [
       "0"
      ]
     },
     "execution_count": 13,
     "metadata": {},
     "output_type": "execute_result"
    }
   ],
   "source": [
    "ds_inv.duplicated().sum() # to check duplication"
   ]
  },
  {
   "cell_type": "code",
   "execution_count": 14,
   "metadata": {
    "slideshow": {
     "slide_type": "subslide"
    }
   },
   "outputs": [
    {
     "data": {
      "text/plain": [
       "duration_sec                   0\n",
       "start_time                     0\n",
       "end_time                       0\n",
       "start_station_id               0\n",
       "start_station_name             0\n",
       "start_station_latitude         0\n",
       "start_station_longitude        0\n",
       "end_station_id                 0\n",
       "end_station_name               0\n",
       "end_station_latitude           0\n",
       "end_station_longitude          0\n",
       "bike_id                        0\n",
       "user_type                      0\n",
       "member_birth_year          66541\n",
       "member_gender              66462\n",
       "dtype: int64"
      ]
     },
     "execution_count": 14,
     "metadata": {},
     "output_type": "execute_result"
    }
   ],
   "source": [
    "ds_inv.isna().sum() # to cheack any non value"
   ]
  },
  {
   "cell_type": "markdown",
   "metadata": {},
   "source": [
    "## <b> What is the structure of your dataset?\n",
    "The dataset includes:\n",
    "<li> duration sec \n",
    "<li> start time\n",
    "<li>    end time\n",
    "<li>    start station id\n",
    "<li>    start station name\n",
    "<li>    start station latitude\n",
    "<li>    start station longitude\n",
    "<li>    end station id\n",
    "<li>    end station name\n",
    "<li>    end station latitude\n",
    "<li>    end station longitude \n",
    "    <li>    bike id\n",
    "\n",
    "<li>    member birth year\n",
    "<li>    member gender\n",
    "        <li>    user type\n",
    "\n",
    "There are 519700 rows and 15 columns\n",
    "\n"
   ]
  },
  {
   "cell_type": "markdown",
   "metadata": {},
   "source": [
    "## What is/are the main feature(s) of interest in your dataset?\n",
    "My investigation aims to look at the difference between customers and subscribers according to sex, age, length and distance of the ride"
   ]
  },
  {
   "cell_type": "markdown",
   "metadata": {},
   "source": [
    "## What features in the dataset do you think will help support your investigation into your feature(s) of interest?\n",
    "The data set contains member birth year so it will be easy to extract age. Also, I can extract the lenght amd distance from latitude and longitude. "
   ]
  },
  {
   "cell_type": "markdown",
   "metadata": {
    "slideshow": {
     "slide_type": "slide"
    }
   },
   "source": [
    "# Cleaning the data"
   ]
  },
  {
   "cell_type": "code",
   "execution_count": 15,
   "metadata": {
    "slideshow": {
     "slide_type": "subslide"
    }
   },
   "outputs": [],
   "source": [
    "ds = ds_inv.copy() # make copy"
   ]
  },
  {
   "cell_type": "markdown",
   "metadata": {
    "slideshow": {
     "slide_type": "subslide"
    }
   },
   "source": [
    "#### Remove useless columns "
   ]
  },
  {
   "cell_type": "code",
   "execution_count": 16,
   "metadata": {
    "slideshow": {
     "slide_type": "subslide"
    }
   },
   "outputs": [],
   "source": [
    "ds.drop(columns =['end_station_id', 'end_station_name'], inplace=True)"
   ]
  },
  {
   "cell_type": "markdown",
   "metadata": {
    "slideshow": {
     "slide_type": "subslide"
    }
   },
   "source": [
    "#### Remove the rows do not have sex or birth year"
   ]
  },
  {
   "cell_type": "code",
   "execution_count": 17,
   "metadata": {
    "slideshow": {
     "slide_type": "subslide"
    }
   },
   "outputs": [],
   "source": [
    "ds.dropna(subset = ['member_birth_year', 'member_gender'], inplace=True)"
   ]
  },
  {
   "cell_type": "markdown",
   "metadata": {
    "slideshow": {
     "slide_type": "subslide"
    }
   },
   "source": [
    "#### Add age column "
   ]
  },
  {
   "cell_type": "code",
   "execution_count": 18,
   "metadata": {
    "slideshow": {
     "slide_type": "subslide"
    }
   },
   "outputs": [],
   "source": [
    "ds['age'] = 2020-ds['member_birth_year'].astype('int')"
   ]
  },
  {
   "cell_type": "code",
   "execution_count": 19,
   "metadata": {
    "slideshow": {
     "slide_type": "subslide"
    }
   },
   "outputs": [
    {
     "data": {
      "text/plain": [
       "(134, 21)"
      ]
     },
     "execution_count": 19,
     "metadata": {},
     "output_type": "execute_result"
    }
   ],
   "source": [
    "#Check max and min age\n",
    "ds.age.max(), ds.age.min()"
   ]
  },
  {
   "cell_type": "code",
   "execution_count": 20,
   "metadata": {
    "slideshow": {
     "slide_type": "subslide"
    }
   },
   "outputs": [],
   "source": [
    "#age (>80)\n",
    "ds_age= ds[ds['age'] > 80]"
   ]
  },
  {
   "cell_type": "code",
   "execution_count": 21,
   "metadata": {
    "slideshow": {
     "slide_type": "subslide"
    }
   },
   "outputs": [],
   "source": [
    "#Exclude unreasonable >80 (747 rows)\n",
    "ds = ds.drop(ds_age.index, axis=0)"
   ]
  },
  {
   "cell_type": "code",
   "execution_count": 22,
   "metadata": {
    "slideshow": {
     "slide_type": "subslide"
    }
   },
   "outputs": [
    {
     "data": {
      "text/plain": [
       "(452412, 14)"
      ]
     },
     "execution_count": 22,
     "metadata": {},
     "output_type": "execute_result"
    }
   ],
   "source": [
    "ds.shape"
   ]
  },
  {
   "cell_type": "markdown",
   "metadata": {
    "slideshow": {
     "slide_type": "subslide"
    }
   },
   "source": [
    "#### Alterate date type "
   ]
  },
  {
   "cell_type": "code",
   "execution_count": 23,
   "metadata": {
    "slideshow": {
     "slide_type": "subslide"
    }
   },
   "outputs": [],
   "source": [
    "#User_type and Gender to category type\n",
    "ds.user_type = ds.user_type.astype('category')\n",
    "ds.member_gender = ds.member_gender.astype('category')"
   ]
  },
  {
   "cell_type": "code",
   "execution_count": 24,
   "metadata": {
    "slideshow": {
     "slide_type": "subslide"
    }
   },
   "outputs": [],
   "source": [
    "#Start_time and End_time to datetime\n",
    "ds['start_time'] = pd.to_datetime(ds['start_time'])\n",
    "ds['end_time'] = pd.to_datetime(ds['end_time'])"
   ]
  },
  {
   "cell_type": "code",
   "execution_count": 25,
   "metadata": {
    "slideshow": {
     "slide_type": "subslide"
    }
   },
   "outputs": [],
   "source": [
    "#Duration_sec to hours\n",
    "ds['duration_hours'] = ds['duration_sec'] / 3600"
   ]
  },
  {
   "cell_type": "code",
   "execution_count": 26,
   "metadata": {
    "slideshow": {
     "slide_type": "subslide"
    }
   },
   "outputs": [],
   "source": [
    "ds['duration_m'] = ds['duration_sec'] / 60"
   ]
  },
  {
   "cell_type": "markdown",
   "metadata": {
    "slideshow": {
     "slide_type": "subslide"
    }
   },
   "source": [
    "#### Allocate month and day of the start time"
   ]
  },
  {
   "cell_type": "code",
   "execution_count": 27,
   "metadata": {
    "slideshow": {
     "slide_type": "subslide"
    }
   },
   "outputs": [],
   "source": [
    "ds['start_time_month']=ds['start_time'].dt.strftime('%B')\n",
    "ds.start_time_month = ds.start_time_month.astype('category')\n",
    "ds['start_time_day']=ds['start_time'].dt.strftime('%a')\n",
    "ds.start_time_day = ds.start_time_day.astype('category')"
   ]
  },
  {
   "cell_type": "markdown",
   "metadata": {
    "slideshow": {
     "slide_type": "subslide"
    }
   },
   "source": [
    "#### Add distance column "
   ]
  },
  {
   "cell_type": "code",
   "execution_count": 28,
   "metadata": {
    "slideshow": {
     "slide_type": "subslide"
    }
   },
   "outputs": [],
   "source": [
    "def distance(origin, destination):\n",
    "    x1, y1 = origin\n",
    "    x2, y2 = destination\n",
    "    radius = 6371 # km\n",
    "    lat = math.radians(x2-x1)\n",
    "    lon = math.radians(y2-y1)\n",
    "    a = math.sin(lat/2) * math.sin(lat/2) + math.cos(math.radians(x1)) * math.cos(math.radians(x2)) * math.sin(lon/2) * math.sin(lon/2)\n",
    "    c = 2 * math.atan2(math.sqrt(a), math.sqrt(1-a))\n",
    "    Dis = radius * c\n",
    "    return Dis"
   ]
  },
  {
   "cell_type": "code",
   "execution_count": 29,
   "metadata": {
    "slideshow": {
     "slide_type": "subslide"
    }
   },
   "outputs": [],
   "source": [
    "ds['distance_km'] = ds.apply(lambda i: distance([i['start_station_longitude'],i['start_station_latitude']],\n",
    "                            [i['end_station_longitude'],i['end_station_latitude']]), axis=1)"
   ]
  },
  {
   "cell_type": "markdown",
   "metadata": {
    "slideshow": {
     "slide_type": "subslide"
    }
   },
   "source": [
    "#### Check"
   ]
  },
  {
   "cell_type": "code",
   "execution_count": 30,
   "metadata": {
    "slideshow": {
     "slide_type": "subslide"
    }
   },
   "outputs": [
    {
     "data": {
      "text/html": [
       "<div>\n",
       "<style scoped>\n",
       "    .dataframe tbody tr th:only-of-type {\n",
       "        vertical-align: middle;\n",
       "    }\n",
       "\n",
       "    .dataframe tbody tr th {\n",
       "        vertical-align: top;\n",
       "    }\n",
       "\n",
       "    .dataframe thead th {\n",
       "        text-align: right;\n",
       "    }\n",
       "</style>\n",
       "<table border=\"1\" class=\"dataframe\">\n",
       "  <thead>\n",
       "    <tr style=\"text-align: right;\">\n",
       "      <th></th>\n",
       "      <th>duration_sec</th>\n",
       "      <th>start_time</th>\n",
       "      <th>end_time</th>\n",
       "      <th>start_station_id</th>\n",
       "      <th>start_station_name</th>\n",
       "      <th>start_station_latitude</th>\n",
       "      <th>start_station_longitude</th>\n",
       "      <th>end_station_latitude</th>\n",
       "      <th>end_station_longitude</th>\n",
       "      <th>bike_id</th>\n",
       "      <th>user_type</th>\n",
       "      <th>member_birth_year</th>\n",
       "      <th>member_gender</th>\n",
       "      <th>age</th>\n",
       "      <th>duration_hours</th>\n",
       "      <th>duration_m</th>\n",
       "      <th>start_time_month</th>\n",
       "      <th>start_time_day</th>\n",
       "      <th>distance_km</th>\n",
       "    </tr>\n",
       "  </thead>\n",
       "  <tbody>\n",
       "    <tr>\n",
       "      <th>0</th>\n",
       "      <td>80110</td>\n",
       "      <td>2017-12-31 16:57:39.654</td>\n",
       "      <td>2018-01-01 15:12:50.245</td>\n",
       "      <td>74</td>\n",
       "      <td>Laguna St at Hayes St</td>\n",
       "      <td>37.776435</td>\n",
       "      <td>-122.426244</td>\n",
       "      <td>37.778768</td>\n",
       "      <td>-122.415929</td>\n",
       "      <td>96</td>\n",
       "      <td>Customer</td>\n",
       "      <td>1987.0</td>\n",
       "      <td>Male</td>\n",
       "      <td>33</td>\n",
       "      <td>22.252778</td>\n",
       "      <td>1335.166667</td>\n",
       "      <td>December</td>\n",
       "      <td>Sun</td>\n",
       "      <td>1.155357</td>\n",
       "    </tr>\n",
       "    <tr>\n",
       "      <th>1</th>\n",
       "      <td>78800</td>\n",
       "      <td>2017-12-31 15:56:34.842</td>\n",
       "      <td>2018-01-01 13:49:55.617</td>\n",
       "      <td>284</td>\n",
       "      <td>Yerba Buena Center for the Arts (Howard St at ...</td>\n",
       "      <td>37.784872</td>\n",
       "      <td>-122.400876</td>\n",
       "      <td>37.766210</td>\n",
       "      <td>-122.426614</td>\n",
       "      <td>88</td>\n",
       "      <td>Customer</td>\n",
       "      <td>1965.0</td>\n",
       "      <td>Female</td>\n",
       "      <td>55</td>\n",
       "      <td>21.888889</td>\n",
       "      <td>1313.333333</td>\n",
       "      <td>December</td>\n",
       "      <td>Sun</td>\n",
       "      <td>3.070483</td>\n",
       "    </tr>\n",
       "    <tr>\n",
       "      <th>4</th>\n",
       "      <td>43603</td>\n",
       "      <td>2017-12-31 14:23:14.001</td>\n",
       "      <td>2018-01-01 02:29:57.571</td>\n",
       "      <td>239</td>\n",
       "      <td>Bancroft Way at Telegraph Ave</td>\n",
       "      <td>37.868813</td>\n",
       "      <td>-122.258764</td>\n",
       "      <td>37.867789</td>\n",
       "      <td>-122.265896</td>\n",
       "      <td>3167</td>\n",
       "      <td>Subscriber</td>\n",
       "      <td>1997.0</td>\n",
       "      <td>Female</td>\n",
       "      <td>23</td>\n",
       "      <td>12.111944</td>\n",
       "      <td>726.716667</td>\n",
       "      <td>December</td>\n",
       "      <td>Sun</td>\n",
       "      <td>0.795410</td>\n",
       "    </tr>\n",
       "    <tr>\n",
       "      <th>6</th>\n",
       "      <td>4507</td>\n",
       "      <td>2017-12-31 23:49:28.422</td>\n",
       "      <td>2018-01-01 01:04:35.619</td>\n",
       "      <td>259</td>\n",
       "      <td>Addison St at Fourth St</td>\n",
       "      <td>37.866249</td>\n",
       "      <td>-122.299371</td>\n",
       "      <td>37.866249</td>\n",
       "      <td>-122.299371</td>\n",
       "      <td>3539</td>\n",
       "      <td>Customer</td>\n",
       "      <td>1991.0</td>\n",
       "      <td>Female</td>\n",
       "      <td>29</td>\n",
       "      <td>1.251944</td>\n",
       "      <td>75.116667</td>\n",
       "      <td>December</td>\n",
       "      <td>Sun</td>\n",
       "      <td>0.000000</td>\n",
       "    </tr>\n",
       "    <tr>\n",
       "      <th>12</th>\n",
       "      <td>2183</td>\n",
       "      <td>2017-12-31 23:52:55.581</td>\n",
       "      <td>2018-01-01 00:29:18.743</td>\n",
       "      <td>67</td>\n",
       "      <td>San Francisco Caltrain Station 2  (Townsend St...</td>\n",
       "      <td>37.776639</td>\n",
       "      <td>-122.395526</td>\n",
       "      <td>37.789677</td>\n",
       "      <td>-122.390428</td>\n",
       "      <td>2311</td>\n",
       "      <td>Subscriber</td>\n",
       "      <td>1990.0</td>\n",
       "      <td>Male</td>\n",
       "      <td>30</td>\n",
       "      <td>0.606389</td>\n",
       "      <td>36.383333</td>\n",
       "      <td>December</td>\n",
       "      <td>Sun</td>\n",
       "      <td>0.961503</td>\n",
       "    </tr>\n",
       "    <tr>\n",
       "      <th>...</th>\n",
       "      <td>...</td>\n",
       "      <td>...</td>\n",
       "      <td>...</td>\n",
       "      <td>...</td>\n",
       "      <td>...</td>\n",
       "      <td>...</td>\n",
       "      <td>...</td>\n",
       "      <td>...</td>\n",
       "      <td>...</td>\n",
       "      <td>...</td>\n",
       "      <td>...</td>\n",
       "      <td>...</td>\n",
       "      <td>...</td>\n",
       "      <td>...</td>\n",
       "      <td>...</td>\n",
       "      <td>...</td>\n",
       "      <td>...</td>\n",
       "      <td>...</td>\n",
       "      <td>...</td>\n",
       "    </tr>\n",
       "    <tr>\n",
       "      <th>519695</th>\n",
       "      <td>435</td>\n",
       "      <td>2017-06-28 10:00:54.528</td>\n",
       "      <td>2017-06-28 10:08:10.438</td>\n",
       "      <td>81</td>\n",
       "      <td>Berry St at 4th St</td>\n",
       "      <td>37.775880</td>\n",
       "      <td>-122.393170</td>\n",
       "      <td>37.781752</td>\n",
       "      <td>-122.405127</td>\n",
       "      <td>400</td>\n",
       "      <td>Subscriber</td>\n",
       "      <td>1991.0</td>\n",
       "      <td>Male</td>\n",
       "      <td>29</td>\n",
       "      <td>0.120833</td>\n",
       "      <td>7.250000</td>\n",
       "      <td>June</td>\n",
       "      <td>Wed</td>\n",
       "      <td>1.374817</td>\n",
       "    </tr>\n",
       "    <tr>\n",
       "      <th>519696</th>\n",
       "      <td>431</td>\n",
       "      <td>2017-06-28 09:56:39.631</td>\n",
       "      <td>2017-06-28 10:03:51.090</td>\n",
       "      <td>66</td>\n",
       "      <td>3rd St at Townsend St</td>\n",
       "      <td>37.778742</td>\n",
       "      <td>-122.392741</td>\n",
       "      <td>37.780146</td>\n",
       "      <td>-122.403071</td>\n",
       "      <td>316</td>\n",
       "      <td>Subscriber</td>\n",
       "      <td>1973.0</td>\n",
       "      <td>Male</td>\n",
       "      <td>47</td>\n",
       "      <td>0.119722</td>\n",
       "      <td>7.183333</td>\n",
       "      <td>June</td>\n",
       "      <td>Wed</td>\n",
       "      <td>1.151688</td>\n",
       "    </tr>\n",
       "    <tr>\n",
       "      <th>519697</th>\n",
       "      <td>424</td>\n",
       "      <td>2017-06-28 09:47:36.347</td>\n",
       "      <td>2017-06-28 09:54:41.187</td>\n",
       "      <td>21</td>\n",
       "      <td>Montgomery St BART Station (Market St at 2nd St)</td>\n",
       "      <td>37.789625</td>\n",
       "      <td>-122.400811</td>\n",
       "      <td>37.782411</td>\n",
       "      <td>-122.392706</td>\n",
       "      <td>240</td>\n",
       "      <td>Subscriber</td>\n",
       "      <td>1985.0</td>\n",
       "      <td>Female</td>\n",
       "      <td>35</td>\n",
       "      <td>0.117778</td>\n",
       "      <td>7.066667</td>\n",
       "      <td>June</td>\n",
       "      <td>Wed</td>\n",
       "      <td>0.998476</td>\n",
       "    </tr>\n",
       "    <tr>\n",
       "      <th>519698</th>\n",
       "      <td>366</td>\n",
       "      <td>2017-06-28 09:47:41.664</td>\n",
       "      <td>2017-06-28 09:53:47.715</td>\n",
       "      <td>58</td>\n",
       "      <td>Market St at 10th St</td>\n",
       "      <td>37.776619</td>\n",
       "      <td>-122.417385</td>\n",
       "      <td>37.774814</td>\n",
       "      <td>-122.418954</td>\n",
       "      <td>669</td>\n",
       "      <td>Subscriber</td>\n",
       "      <td>1981.0</td>\n",
       "      <td>Male</td>\n",
       "      <td>39</td>\n",
       "      <td>0.101667</td>\n",
       "      <td>6.100000</td>\n",
       "      <td>June</td>\n",
       "      <td>Wed</td>\n",
       "      <td>0.204976</td>\n",
       "    </tr>\n",
       "    <tr>\n",
       "      <th>519699</th>\n",
       "      <td>188</td>\n",
       "      <td>2017-06-28 09:49:46.377</td>\n",
       "      <td>2017-06-28 09:52:55.338</td>\n",
       "      <td>25</td>\n",
       "      <td>Howard St at 2nd St</td>\n",
       "      <td>37.787522</td>\n",
       "      <td>-122.397405</td>\n",
       "      <td>37.782411</td>\n",
       "      <td>-122.392706</td>\n",
       "      <td>117</td>\n",
       "      <td>Subscriber</td>\n",
       "      <td>1984.0</td>\n",
       "      <td>Male</td>\n",
       "      <td>36</td>\n",
       "      <td>0.052222</td>\n",
       "      <td>3.133333</td>\n",
       "      <td>June</td>\n",
       "      <td>Wed</td>\n",
       "      <td>0.604730</td>\n",
       "    </tr>\n",
       "  </tbody>\n",
       "</table>\n",
       "<p>452412 rows × 19 columns</p>\n",
       "</div>"
      ],
      "text/plain": [
       "        duration_sec              start_time                end_time  \\\n",
       "0              80110 2017-12-31 16:57:39.654 2018-01-01 15:12:50.245   \n",
       "1              78800 2017-12-31 15:56:34.842 2018-01-01 13:49:55.617   \n",
       "4              43603 2017-12-31 14:23:14.001 2018-01-01 02:29:57.571   \n",
       "6               4507 2017-12-31 23:49:28.422 2018-01-01 01:04:35.619   \n",
       "12              2183 2017-12-31 23:52:55.581 2018-01-01 00:29:18.743   \n",
       "...              ...                     ...                     ...   \n",
       "519695           435 2017-06-28 10:00:54.528 2017-06-28 10:08:10.438   \n",
       "519696           431 2017-06-28 09:56:39.631 2017-06-28 10:03:51.090   \n",
       "519697           424 2017-06-28 09:47:36.347 2017-06-28 09:54:41.187   \n",
       "519698           366 2017-06-28 09:47:41.664 2017-06-28 09:53:47.715   \n",
       "519699           188 2017-06-28 09:49:46.377 2017-06-28 09:52:55.338   \n",
       "\n",
       "        start_station_id                                 start_station_name  \\\n",
       "0                     74                              Laguna St at Hayes St   \n",
       "1                    284  Yerba Buena Center for the Arts (Howard St at ...   \n",
       "4                    239                      Bancroft Way at Telegraph Ave   \n",
       "6                    259                            Addison St at Fourth St   \n",
       "12                    67  San Francisco Caltrain Station 2  (Townsend St...   \n",
       "...                  ...                                                ...   \n",
       "519695                81                                 Berry St at 4th St   \n",
       "519696                66                              3rd St at Townsend St   \n",
       "519697                21   Montgomery St BART Station (Market St at 2nd St)   \n",
       "519698                58                               Market St at 10th St   \n",
       "519699                25                                Howard St at 2nd St   \n",
       "\n",
       "        start_station_latitude  start_station_longitude  end_station_latitude  \\\n",
       "0                    37.776435              -122.426244             37.778768   \n",
       "1                    37.784872              -122.400876             37.766210   \n",
       "4                    37.868813              -122.258764             37.867789   \n",
       "6                    37.866249              -122.299371             37.866249   \n",
       "12                   37.776639              -122.395526             37.789677   \n",
       "...                        ...                      ...                   ...   \n",
       "519695               37.775880              -122.393170             37.781752   \n",
       "519696               37.778742              -122.392741             37.780146   \n",
       "519697               37.789625              -122.400811             37.782411   \n",
       "519698               37.776619              -122.417385             37.774814   \n",
       "519699               37.787522              -122.397405             37.782411   \n",
       "\n",
       "        end_station_longitude  bike_id   user_type  member_birth_year  \\\n",
       "0                 -122.415929       96    Customer             1987.0   \n",
       "1                 -122.426614       88    Customer             1965.0   \n",
       "4                 -122.265896     3167  Subscriber             1997.0   \n",
       "6                 -122.299371     3539    Customer             1991.0   \n",
       "12                -122.390428     2311  Subscriber             1990.0   \n",
       "...                       ...      ...         ...                ...   \n",
       "519695            -122.405127      400  Subscriber             1991.0   \n",
       "519696            -122.403071      316  Subscriber             1973.0   \n",
       "519697            -122.392706      240  Subscriber             1985.0   \n",
       "519698            -122.418954      669  Subscriber             1981.0   \n",
       "519699            -122.392706      117  Subscriber             1984.0   \n",
       "\n",
       "       member_gender  age  duration_hours   duration_m start_time_month  \\\n",
       "0               Male   33       22.252778  1335.166667         December   \n",
       "1             Female   55       21.888889  1313.333333         December   \n",
       "4             Female   23       12.111944   726.716667         December   \n",
       "6             Female   29        1.251944    75.116667         December   \n",
       "12              Male   30        0.606389    36.383333         December   \n",
       "...              ...  ...             ...          ...              ...   \n",
       "519695          Male   29        0.120833     7.250000             June   \n",
       "519696          Male   47        0.119722     7.183333             June   \n",
       "519697        Female   35        0.117778     7.066667             June   \n",
       "519698          Male   39        0.101667     6.100000             June   \n",
       "519699          Male   36        0.052222     3.133333             June   \n",
       "\n",
       "       start_time_day  distance_km  \n",
       "0                 Sun     1.155357  \n",
       "1                 Sun     3.070483  \n",
       "4                 Sun     0.795410  \n",
       "6                 Sun     0.000000  \n",
       "12                Sun     0.961503  \n",
       "...               ...          ...  \n",
       "519695            Wed     1.374817  \n",
       "519696            Wed     1.151688  \n",
       "519697            Wed     0.998476  \n",
       "519698            Wed     0.204976  \n",
       "519699            Wed     0.604730  \n",
       "\n",
       "[452412 rows x 19 columns]"
      ]
     },
     "execution_count": 30,
     "metadata": {},
     "output_type": "execute_result"
    }
   ],
   "source": [
    "ds"
   ]
  },
  {
   "cell_type": "markdown",
   "metadata": {
    "slideshow": {
     "slide_type": "slide"
    }
   },
   "source": [
    "# Analysing \n",
    "## Univariate Exploration of Data"
   ]
  },
  {
   "cell_type": "markdown",
   "metadata": {
    "slideshow": {
     "slide_type": "subslide"
    }
   },
   "source": [
    "### Factor1: User type"
   ]
  },
  {
   "cell_type": "code",
   "execution_count": 31,
   "metadata": {
    "slideshow": {
     "slide_type": "subslide"
    }
   },
   "outputs": [
    {
     "data": {
      "image/png": "[encoded data removed]",
      "text/plain": [
       "<Figure size 460.8x403.2 with 1 Axes>"
      ]
     },
     "metadata": {},
     "output_type": "display_data"
    }
   ],
   "source": [
    "sorted_counts = ds['user_type'].value_counts()\n",
    "plt.pie(sorted_counts, labels = sorted_counts.index, startangle = 90,counterclock = False,  autopct='%1.0f%%');\n",
    "plt.title(\"The User type\", fontsize=20, y=1.07)\n",
    "plt.axis('square');"
   ]
  },
  {
   "cell_type": "markdown",
   "metadata": {},
   "source": [
    "<b> <li> 89% of FGS Users were subscribers."
   ]
  },
  {
   "cell_type": "markdown",
   "metadata": {
    "slideshow": {
     "slide_type": "subslide"
    }
   },
   "source": [
    "### Factor 2: Age"
   ]
  },
  {
   "cell_type": "code",
   "execution_count": 34,
   "metadata": {
    "slideshow": {
     "slide_type": "subslide"
    }
   },
   "outputs": [
    {
     "data": {
      "image/png": "[encoded data removed]",
      "text/plain": [
       "<Figure size 864x288 with 1 Axes>"
      ]
     },
     "metadata": {},
     "output_type": "display_data"
    }
   ],
   "source": [
    "plt.figure(figsize=(12,4))\n",
    "sb.boxplot(x='age', data= ds, color='gray')\n",
    "sb.set(rc={'axes.facecolor':'white', 'figure.facecolor':'white'})\n",
    "plt.title(\"The age\", fontsize=20, y=1.07)\n",
    "plt.xlabel(\"Age\");"
   ]
  },
  {
   "cell_type": "code",
   "execution_count": 35,
   "metadata": {
    "slideshow": {
     "slide_type": "subslide"
    }
   },
   "outputs": [
    {
     "data": {
      "text/plain": [
       "count    452412.000000\n",
       "mean         39.490005\n",
       "std          10.177273\n",
       "min          21.000000\n",
       "25%          32.000000\n",
       "50%          37.000000\n",
       "75%          46.000000\n",
       "max          80.000000\n",
       "Name: age, dtype: float64"
      ]
     },
     "execution_count": 35,
     "metadata": {},
     "output_type": "execute_result"
    }
   ],
   "source": [
    "ds.age.describe()"
   ]
  },
  {
   "cell_type": "markdown",
   "metadata": {},
   "source": [
    "<b> <li> Age min 21 and max was 80 and the age mean was 39.4"
   ]
  },
  {
   "cell_type": "markdown",
   "metadata": {
    "slideshow": {
     "slide_type": "subslide"
    }
   },
   "source": [
    "### Factor 3: Sex"
   ]
  },
  {
   "cell_type": "code",
   "execution_count": 36,
   "metadata": {
    "slideshow": {
     "slide_type": "subslide"
    }
   },
   "outputs": [
    {
     "data": {
      "image/png": "[encoded data removed]",
      "text/plain": [
       "<Figure size 460.8x403.2 with 1 Axes>"
      ]
     },
     "metadata": {},
     "output_type": "display_data"
    }
   ],
   "source": [
    "sb.countplot(data = ds, x = 'member_gender')\n",
    "plt.title(\"The Sex type\", fontsize=15, y=1)\n",
    "plt.xlabel('Sex')\n",
    "plt.ylabel('User numbers');"
   ]
  },
  {
   "cell_type": "code",
   "execution_count": 37,
   "metadata": {
    "slideshow": {
     "slide_type": "subslide"
    }
   },
   "outputs": [
    {
     "data": {
      "image/png": "[encoded data removed]",
      "text/plain": [
       "<Figure size 460.8x403.2 with 1 Axes>"
      ]
     },
     "metadata": {},
     "output_type": "display_data"
    }
   ],
   "source": [
    "sorted_counts = ds['member_gender'].value_counts()\n",
    "plt.pie(sorted_counts, labels = sorted_counts.index, autopct='%1.0f%%', startangle=90, counterclock = False)\n",
    "plt.title(\"The sex persentage\", fontsize=20, y=1.07)\n",
    "plt.axis('square');"
   ]
  },
  {
   "cell_type": "markdown",
   "metadata": {},
   "source": [
    "<b> <li> 77% and 22 % of participates were male (350K) and female (50K), respectively"
   ]
  },
  {
   "cell_type": "markdown",
   "metadata": {
    "slideshow": {
     "slide_type": "subslide"
    }
   },
   "source": [
    "### Factor 4: Eash Month"
   ]
  },
  {
   "cell_type": "code",
   "execution_count": 38,
   "metadata": {
    "slideshow": {
     "slide_type": "subslide"
    }
   },
   "outputs": [
    {
     "data": {
      "image/png": "[encoded data removed]",
      "text/plain": [
       "<Figure size 460.8x403.2 with 1 Axes>"
      ]
     },
     "metadata": {},
     "output_type": "display_data"
    }
   ],
   "source": [
    "base_color = sb.color_palette()[0]\n",
    "\n",
    "Month = ['June', 'July', 'August', 'September', 'October', 'November', 'December']\n",
    "sb.countplot(data = ds, x = 'start_time_month', order = Month, color = base_color)\n",
    "plt.title('Rides number per Month', fontsize = 15)\n",
    "plt.xlabel('Month')\n",
    "plt.ylabel('Rides number')\n",
    "plt.xticks(rotation = 90);"
   ]
  },
  {
   "cell_type": "markdown",
   "metadata": {},
   "source": [
    "<b> <li> Oct had seen highest rides number"
   ]
  },
  {
   "cell_type": "markdown",
   "metadata": {
    "slideshow": {
     "slide_type": "subslide"
    }
   },
   "source": [
    "### Factor 5: Each weekday"
   ]
  },
  {
   "cell_type": "code",
   "execution_count": 39,
   "metadata": {
    "slideshow": {
     "slide_type": "subslide"
    }
   },
   "outputs": [
    {
     "data": {
      "image/png": "[encoded data removed]",
      "text/plain": [
       "<Figure size 460.8x403.2 with 1 Axes>"
      ]
     },
     "metadata": {},
     "output_type": "display_data"
    }
   ],
   "source": [
    "weekdays = ['Mon', 'Tue', 'Wed', 'Thu', 'Fri', 'Sat', 'Sun']\n",
    "sb.countplot(data = ds, x = 'start_time_day', order = weekdays, color = base_color)\n",
    "plt.title('Rides number per Day', fontsize = 15)\n",
    "plt.xlabel('Day')\n",
    "plt.ylabel('Count of Rides');"
   ]
  },
  {
   "cell_type": "markdown",
   "metadata": {},
   "source": [
    "<b> <li> Weekdays had the highest percentage comparing to weekends"
   ]
  },
  {
   "cell_type": "markdown",
   "metadata": {
    "slideshow": {
     "slide_type": "subslide"
    }
   },
   "source": [
    "### Factor 6: Distance"
   ]
  },
  {
   "cell_type": "code",
   "execution_count": 40,
   "metadata": {
    "slideshow": {
     "slide_type": "subslide"
    }
   },
   "outputs": [
    {
     "ename": "NameError",
     "evalue": "name 'bin_edges' is not defined",
     "output_type": "error",
     "traceback": [
      "\u001b[0;31m---------------------------------------------------------------------------\u001b[0m",
      "\u001b[0;31mNameError\u001b[0m                                 Traceback (most recent call last)",
      "\u001b[0;32m<ipython-input-40-b06d015585ff>\u001b[0m in \u001b[0;36m<module>\u001b[0;34m\u001b[0m\n\u001b[1;32m      1\u001b[0m \u001b[0mneedsbin_edges\u001b[0m \u001b[0;34m=\u001b[0m \u001b[0mnp\u001b[0m\u001b[0;34m.\u001b[0m\u001b[0marange\u001b[0m\u001b[0;34m(\u001b[0m\u001b[0;36m0\u001b[0m\u001b[0;34m,\u001b[0m \u001b[0;36m6\u001b[0m\u001b[0;34m,\u001b[0m \u001b[0;36m0.3\u001b[0m\u001b[0;34m)\u001b[0m\u001b[0;34m\u001b[0m\u001b[0;34m\u001b[0m\u001b[0m\n\u001b[0;32m----> 2\u001b[0;31m \u001b[0mplt\u001b[0m\u001b[0;34m.\u001b[0m\u001b[0mhist\u001b[0m\u001b[0;34m(\u001b[0m\u001b[0mdata\u001b[0m \u001b[0;34m=\u001b[0m \u001b[0mds\u001b[0m\u001b[0;34m,\u001b[0m \u001b[0mx\u001b[0m \u001b[0;34m=\u001b[0m \u001b[0;34m'distance_km'\u001b[0m\u001b[0;34m,\u001b[0m \u001b[0mbins\u001b[0m \u001b[0;34m=\u001b[0m \u001b[0mbin_edges\u001b[0m\u001b[0;34m)\u001b[0m\u001b[0;34m\u001b[0m\u001b[0;34m\u001b[0m\u001b[0m\n\u001b[0m\u001b[1;32m      3\u001b[0m \u001b[0mplt\u001b[0m\u001b[0;34m.\u001b[0m\u001b[0mtitle\u001b[0m\u001b[0;34m(\u001b[0m\u001b[0;34m\"Distance \"\u001b[0m\u001b[0;34m,\u001b[0m \u001b[0my\u001b[0m \u001b[0;34m=\u001b[0m \u001b[0;36m1.06\u001b[0m\u001b[0;34m,\u001b[0m \u001b[0mfontsize\u001b[0m \u001b[0;34m=\u001b[0m \u001b[0;36m15\u001b[0m\u001b[0;34m)\u001b[0m\u001b[0;34m\u001b[0m\u001b[0;34m\u001b[0m\u001b[0m\n\u001b[1;32m      4\u001b[0m \u001b[0mplt\u001b[0m\u001b[0;34m.\u001b[0m\u001b[0mxlabel\u001b[0m\u001b[0;34m(\u001b[0m\u001b[0;34m'KM'\u001b[0m\u001b[0;34m)\u001b[0m\u001b[0;34m\u001b[0m\u001b[0;34m\u001b[0m\u001b[0m\n\u001b[1;32m      5\u001b[0m \u001b[0mplt\u001b[0m\u001b[0;34m.\u001b[0m\u001b[0mylabel\u001b[0m\u001b[0;34m(\u001b[0m\u001b[0;34m'Trips'\u001b[0m\u001b[0;34m)\u001b[0m\u001b[0;34m;\u001b[0m\u001b[0;34m\u001b[0m\u001b[0;34m\u001b[0m\u001b[0m\n",
      "\u001b[0;31mNameError\u001b[0m: name 'bin_edges' is not defined"
     ]
    }
   ],
   "source": [
    "needsbin_edges = np.arange(0, 6, 0.3)\n",
    "plt.hist(data = ds, x = 'distance_km', bins = bin_edges)\n",
    "plt.title(\"Distance \", y = 1.06, fontsize = 15)\n",
    "plt.xlabel('KM')\n",
    "plt.ylabel('Trips');"
   ]
  },
  {
   "cell_type": "code",
   "execution_count": 41,
   "metadata": {
    "slideshow": {
     "slide_type": "subslide"
    }
   },
   "outputs": [
    {
     "data": {
      "text/plain": [
       "1.3826854113920815"
      ]
     },
     "execution_count": 41,
     "metadata": {},
     "output_type": "execute_result"
    }
   ],
   "source": [
    "ds.distance_km.mean()"
   ]
  },
  {
   "cell_type": "markdown",
   "metadata": {},
   "source": [
    "<b> <li> The majorty of trips involved less than 1 km and the mean of trips is 1.4 km"
   ]
  },
  {
   "cell_type": "markdown",
   "metadata": {
    "slideshow": {
     "slide_type": "subslide"
    }
   },
   "source": [
    "### Factor 7: Duration"
   ]
  },
  {
   "cell_type": "code",
   "execution_count": 42,
   "metadata": {
    "slideshow": {
     "slide_type": "subslide"
    }
   },
   "outputs": [
    {
     "data": {
      "image/png": "[encoded data removed]",
      "text/plain": [
       "<Figure size 460.8x403.2 with 1 Axes>"
      ]
     },
     "metadata": {},
     "output_type": "display_data"
    }
   ],
   "source": [
    "bin_edges = np.arange(0, 100, 5)\n",
    "\n",
    "plt.hist(data = ds, x = 'duration_m', bins = bin_edges)\n",
    "\n",
    "plt.title(\"Duration\", y=1.03, fontsize=14, fontweight='semibold')\n",
    "plt.xlabel('Minutes')\n",
    "plt.ylabel('Rides');"
   ]
  },
  {
   "cell_type": "markdown",
   "metadata": {},
   "source": [
    "<b> <li> The majorty of trips consumed from 10 to 20 mins"
   ]
  },
  {
   "cell_type": "markdown",
   "metadata": {},
   "source": [
    "### Discuss the distribution(s) of your variable(s) of interest. Were there any unusual points? Did you need to perform any transformations?\n"
   ]
  },
  {
   "cell_type": "markdown",
   "metadata": {},
   "source": [
    "I treat the data set and omit unneeded columns such as end station id and end station name. The age was calculated and gave an unreasonable number. The age max reached to 135 years old. The unit of duration was sec so I built a new column to present duration by min. "
   ]
  },
  {
   "cell_type": "markdown",
   "metadata": {},
   "source": [
    "### Of the features you investigated, were there any unusual distributions? Did you perform any operations on the data to tidy, adjust, or change the form of the data? If so, why did you do this?\n"
   ]
  },
  {
   "cell_type": "markdown",
   "metadata": {},
   "source": [
    "I excluded all rows showing age more than 80 years old to get logical analysis and realistic. "
   ]
  },
  {
   "cell_type": "markdown",
   "metadata": {
    "slideshow": {
     "slide_type": "slide"
    }
   },
   "source": [
    "## Bivariate Exploration"
   ]
  },
  {
   "cell_type": "markdown",
   "metadata": {
    "slideshow": {
     "slide_type": "subslide"
    }
   },
   "source": [
    "1. <b> Daily using according to User type"
   ]
  },
  {
   "cell_type": "code",
   "execution_count": 43,
   "metadata": {
    "slideshow": {
     "slide_type": "subslide"
    }
   },
   "outputs": [
    {
     "data": {
      "image/png": "[encoded data removed]",
      "text/plain": [
       "<Figure size 720x360 with 2 Axes>"
      ]
     },
     "metadata": {},
     "output_type": "display_data"
    }
   ],
   "source": [
    "day = ['Mon', 'Tue', 'Wed', 'Thu', 'Fri', 'Sat', 'Sun']\n",
    "g = sb.catplot(data=ds, x='start_time_day', col=\"user_type\", kind='count', sharey = False, order = day, color = base_color)\n",
    "g.set_axis_labels(\"Days\", \"Number of Bike Trips\")\n",
    "g.set_titles(\"{col_name}\")\n",
    "g.fig.suptitle('Daily using according to User type', y=1.03, fontsize=14, fontweight='semibold');"
   ]
  },
  {
   "cell_type": "markdown",
   "metadata": {},
   "source": [
    "<b> <li> The number of Customers trips was highest at the weekends while Subscribers perfered weekdays"
   ]
  },
  {
   "cell_type": "markdown",
   "metadata": {
    "slideshow": {
     "slide_type": "subslide"
    }
   },
   "source": [
    "<b> 2. Monthly using according to User type"
   ]
  },
  {
   "cell_type": "code",
   "execution_count": 44,
   "metadata": {
    "slideshow": {
     "slide_type": "subslide"
    }
   },
   "outputs": [
    {
     "data": {
      "image/png": "[encoded data removed]",
      "text/plain": [
       "<Figure size 720x360 with 2 Axes>"
      ]
     },
     "metadata": {},
     "output_type": "display_data"
    }
   ],
   "source": [
    "Month = ['June', 'July', 'August', 'September', 'October', 'November', 'December']\n",
    "g = sb.catplot(data=ds, x='start_time_month', col=\"user_type\", kind='count', sharey = False, order = Month, color = base_color)\n",
    "g.set_axis_labels(\"Months\", \"Number of Bike Trips\")\n",
    "g.set_titles(\"{col_name}\")\n",
    "g.fig.suptitle('Monthly using according to User type', y=1.03, fontsize=14, fontweight='semibold');\n",
    "g.set_xticklabels(rotation=90);"
   ]
  },
  {
   "cell_type": "markdown",
   "metadata": {},
   "source": [
    "<b> <li> Customers achieved the highest number of trips in Sep while Oct had seen the highest number of trips of Subscribers"
   ]
  },
  {
   "cell_type": "markdown",
   "metadata": {
    "slideshow": {
     "slide_type": "subslide"
    }
   },
   "source": [
    "<b> 3. Average trip duration according to User type"
   ]
  },
  {
   "cell_type": "code",
   "execution_count": 45,
   "metadata": {
    "slideshow": {
     "slide_type": "subslide"
    }
   },
   "outputs": [
    {
     "data": {
      "image/png": "[encoded data removed]",
      "text/plain": [
       "<Figure size 720x432 with 1 Axes>"
      ]
     },
     "metadata": {},
     "output_type": "display_data"
    }
   ],
   "source": [
    "x= ds.groupby('user_type')['distance_km'].mean()\n",
    "pl = x.plot(kind='barh', figsize=(10,6))\n",
    "pl.set_title('Average trip duration according to User type', fontsize=15, y=1.015)\n",
    "pl.set_ylabel('User Type', labelpad=6)\n",
    "pl.set_xlabel('KM', labelpad=10);"
   ]
  },
  {
   "cell_type": "markdown",
   "metadata": {},
   "source": [
    "<b> <li> The average distance covered by customers (1.55 km) was larger the subscribers' average distance (1.36 km)"
   ]
  },
  {
   "cell_type": "code",
   "execution_count": 46,
   "metadata": {
    "slideshow": {
     "slide_type": "subslide"
    }
   },
   "outputs": [
    {
     "data": {
      "text/plain": [
       "user_type\n",
       "Customer      1.550785\n",
       "Subscriber    1.362411\n",
       "Name: distance_km, dtype: float64"
      ]
     },
     "execution_count": 46,
     "metadata": {},
     "output_type": "execute_result"
    }
   ],
   "source": [
    "ds.groupby('user_type')['distance_km'].mean()"
   ]
  },
  {
   "cell_type": "markdown",
   "metadata": {
    "slideshow": {
     "slide_type": "subslide"
    }
   },
   "source": [
    "<b> 4. Average distance according to sex "
   ]
  },
  {
   "cell_type": "code",
   "execution_count": 47,
   "metadata": {
    "slideshow": {
     "slide_type": "subslide"
    }
   },
   "outputs": [
    {
     "data": {
      "image/png": "[encoded data removed]",
      "text/plain": [
       "<Figure size 936x576 with 1 Axes>"
      ]
     },
     "metadata": {},
     "output_type": "display_data"
    }
   ],
   "source": [
    "ax = ds.groupby('member_gender')['distance_km'].mean().plot(kind='barh', figsize=(13,8))\n",
    "ax.set_title('Average Trip Distance per sex ', fontsize=22, y=1.015)\n",
    "ax.set_ylabel('User Type', labelpad=8)\n",
    "ax.set_xlabel('KM', labelpad=10);"
   ]
  },
  {
   "cell_type": "markdown",
   "metadata": {},
   "source": [
    "<b> <li> It was clear there was no observed difference in the mean of distance according to the gender"
   ]
  },
  {
   "cell_type": "markdown",
   "metadata": {
    "slideshow": {
     "slide_type": "subslide"
    }
   },
   "source": [
    "<b> 5. Distance according to ages"
   ]
  },
  {
   "cell_type": "code",
   "execution_count": 48,
   "metadata": {
    "slideshow": {
     "slide_type": "subslide"
    }
   },
   "outputs": [
    {
     "data": {
      "image/png": "[encoded data removed]",
      "text/plain": [
       "<Figure size 1080x648 with 1 Axes>"
      ]
     },
     "metadata": {},
     "output_type": "display_data"
    }
   ],
   "source": [
    "plt.figure(figsize=(15,9))\n",
    "sb.pointplot(data = ds, x='age', y='distance_km', scale=.7, color='blue')\n",
    "plt.title('Age vs Distance', fontsize=22, y=1.015)\n",
    "plt.xlabel('Age', labelpad=16)\n",
    "plt.ylabel('KM', labelpad=16)\n",
    "plt.xticks(rotation = 90);"
   ]
  },
  {
   "cell_type": "markdown",
   "metadata": {},
   "source": [
    "<b> <li> The graph shows that there was no fixed pattern for using the system by the oldest people. The distance range was between 1.1 and 1.5 km approximately in term of young and adults."
   ]
  },
  {
   "cell_type": "markdown",
   "metadata": {},
   "source": [
    "### Talk about some of the relationships you observed in this part of the investigation. Were there features that strengthened each other in terms of looking at your feature(s) of interest?"
   ]
  },
  {
   "cell_type": "markdown",
   "metadata": {},
   "source": [
    "Looking at the bar graph, you can note that there was different usage behaviour between subscribers and customers. The mean of distance for both user types was almost the same."
   ]
  },
  {
   "cell_type": "markdown",
   "metadata": {},
   "source": [
    "### Of the features you investigated, were there any unusual distributions? Did you perform any operations on the data to tidy, adjust, or change the form of the data? If so, why did you do this?\n"
   ]
  },
  {
   "cell_type": "markdown",
   "metadata": {},
   "source": [
    "The relationship between the members' age and distance was in the range 1.1 to 1.5 km while the oldest had fluctuated pattern reached to 1.7 as max and less 1km as min."
   ]
  },
  {
   "cell_type": "markdown",
   "metadata": {
    "slideshow": {
     "slide_type": "slide"
    }
   },
   "source": [
    "## Multivariate Exploration"
   ]
  },
  {
   "cell_type": "markdown",
   "metadata": {
    "slideshow": {
     "slide_type": "subslide"
    }
   },
   "source": [
    "<b> 1. Using the system per user type and sex according to days"
   ]
  },
  {
   "cell_type": "code",
   "execution_count": 49,
   "metadata": {
    "slideshow": {
     "slide_type": "subslide"
    }
   },
   "outputs": [
    {
     "data": {
      "image/png": "[encoded data removed]",
      "text/plain": [
       "<Figure size 803.3x360 with 2 Axes>"
      ]
     },
     "metadata": {},
     "output_type": "display_data"
    }
   ],
   "source": [
    "day = ['Mon', 'Tue', 'Wed', 'Thu', 'Fri', 'Sat', 'Sun']\n",
    "u = sb.catplot(data=ds, x='start_time_day', col=\"user_type\", hue='member_gender', kind='count', sharey = False,\n",
    "                order = day)\n",
    "u.set_axis_labels(\"day\", \"Number of Trips\")\n",
    "u._legend.set_title('Sex')\n",
    "u.set_titles(\"{col_name}\");"
   ]
  },
  {
   "cell_type": "markdown",
   "metadata": {
    "slideshow": {
     "slide_type": "subslide"
    }
   },
   "source": [
    "<b> 2. Using the system per user type and sex according to months"
   ]
  },
  {
   "cell_type": "code",
   "execution_count": 50,
   "metadata": {
    "slideshow": {
     "slide_type": "subslide"
    }
   },
   "outputs": [
    {
     "data": {
      "image/png": "[encoded data removed]",
      "text/plain": [
       "<Figure size 803.3x360 with 2 Axes>"
      ]
     },
     "metadata": {},
     "output_type": "display_data"
    }
   ],
   "source": [
    "month = ['July', 'August', 'September', 'October', 'November', 'December']\n",
    "u = sb.catplot(data=ds, x='start_time_month', col=\"user_type\", hue=\"member_gender\", kind='count', sharey = False, order = month)\n",
    "u.set_axis_labels(\"Month\", \"Number of Trips\")\n",
    "u._legend.set_title('Sex')\n",
    "u.set_titles(\"{col_name}\")\n",
    "u.set_xticklabels(rotation=90);"
   ]
  },
  {
   "cell_type": "markdown",
   "metadata": {},
   "source": [
    "<b> <li> Monthly and weekly usages appeared the same pattern for both sexes. "
   ]
  },
  {
   "cell_type": "markdown",
   "metadata": {},
   "source": [
    "<b> 3. Monthly Usage during the Weekday for male and female"
   ]
  },
  {
   "cell_type": "code",
   "execution_count": 51,
   "metadata": {
    "scrolled": true,
    "slideshow": {
     "slide_type": "subslide"
    }
   },
   "outputs": [
    {
     "data": {
      "image/png": "[encoded data removed]",
      "text/plain": [
       "<Figure size 1080x1080 with 4 Axes>"
      ]
     },
     "metadata": {},
     "output_type": "display_data"
    }
   ],
   "source": [
    "ds['start_time_day'] = pd.Categorical(ds['start_time_day'], \n",
    "                                                categories=['Mon','Tue','Wed','Thu','Fri','Sat', 'Sun'], \n",
    "                                                ordered=True)\n",
    "ds['start_time_month'] = pd.Categorical(ds['start_time_month'], \n",
    "                                                categories=['June', 'July', 'August','September', 'October', 'November', 'December'], \n",
    "                                                ordered=True)\n",
    "plt.figure(figsize=(15,15))\n",
    "plt.suptitle('Monthly Usage during the Weekday for male and female', fontsize=14, fontweight='semibold')\n",
    "\n",
    "# heatmap for male\n",
    "plt.subplot(1, 2, 1)\n",
    "ds_male = ds.query('member_gender == \"Male\"').groupby([\"start_time_month\", \"start_time_day\"])[\"bike_id\"].size().reset_index()\n",
    "ds_male= ds_male.pivot(\"start_time_month\", \"start_time_day\", \"bike_id\")\n",
    "sb.heatmap(ds_male, cmap=\"YlGnBu\")\n",
    "\n",
    "plt.title(\"Male\", y=1.015)\n",
    "plt.xlabel('Weekday')\n",
    "plt.ylabel('Month');\n",
    "\n",
    "# heatmap for female\n",
    "\n",
    "plt.subplot(1, 2, 2)\n",
    "ds_female = ds.query('member_gender == \"Female\"').groupby([\"start_time_month\", \"start_time_day\"])[\"bike_id\"].size().reset_index()\n",
    "ds_female= ds_female.pivot(\"start_time_month\", \"start_time_day\", \"bike_id\")\n",
    "sb.heatmap(ds_female, cmap=\"YlGnBu\")\n",
    "\n",
    "plt.title(\"Female\", y=1.015)\n",
    "plt.xlabel('Weekday')\n",
    "plt.ylabel('Month');"
   ]
  },
  {
   "cell_type": "markdown",
   "metadata": {},
   "source": [
    "<b> <li>It was so clear that males tended to use this system a lot (14000 trips) compared to females (4000 trips)"
   ]
  },
  {
   "cell_type": "markdown",
   "metadata": {},
   "source": [
    "### Talk about some of the relationships you observed in this part of the investigation. Were there features that strengthened each other in terms of looking at your feature(s) of interest?\n"
   ]
  },
  {
   "cell_type": "markdown",
   "metadata": {},
   "source": [
    "The graphs show that the pattern usege of male and famale during weekdays and monthes were almost same.  "
   ]
  },
  {
   "cell_type": "markdown",
   "metadata": {},
   "source": [
    "### Did you observe any interesting relationships between the other features (not the main feature(s) of interest)?\n"
   ]
  },
  {
   "cell_type": "markdown",
   "metadata": {},
   "source": [
    "The heatmap shows that the both genders used the systeme but the number of males'trips was extanted to 14000 trips.  "
   ]
  },
  {
   "cell_type": "code",
   "execution_count": null,
   "metadata": {},
   "outputs": [],
   "source": []
  }
 ],
 "metadata": {
  "kernelspec": {
   "display_name": "Python 3",
   "language": "python",
   "name": "python3"
  },
  "language_info": {
   "codemirror_mode": {
    "name": "ipython",
    "version": 3
   },
   "file_extension": ".py",
   "mimetype": "text/x-python",
   "name": "python",
   "nbconvert_exporter": "python",
   "pygments_lexer": "ipython3",
   "version": "3.7.6"
  }
 },
 "nbformat": 4,
 "nbformat_minor": 4
}
